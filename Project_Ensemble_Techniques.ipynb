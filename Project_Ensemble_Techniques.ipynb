{
  "cells": [
    {
      "cell_type": "code",
      "execution_count": null,
      "metadata": {
        "colab": {
          "base_uri": "https://localhost:8080/"
        },
        "id": "PMDeb6MG9itZ",
        "outputId": "39bcb110-a614-4134-970e-ed1d34158612"
      },
      "outputs": [
        {
          "name": "stdout",
          "output_type": "stream",
          "text": [
            "Mounted at /content/gdrive\n"
          ]
        }
      ],
      "source": [
        "from google.colab import drive\n",
        "drive.mount(\"/content/gdrive\")"
      ]
    },
    {
      "cell_type": "code",
      "execution_count": null,
      "metadata": {
        "id": "6n_ee5m1-QGO"
      },
      "outputs": [],
      "source": [
        "import numpy as np\n",
        "from numpy import percentile\n",
        "import pandas as pd\n",
        "import matplotlib.pyplot as plt\n",
        "import seaborn as sns\n",
        "from scipy import stats\n",
        "from scipy.stats import binom\n",
        "from scipy.stats import ttest_ind\n",
        "from statsmodels.stats.proportion import proportions_ztest\n",
        "from numpy.random import rand\n",
        "from sklearn.neighbors import KNeighborsClassifier\n",
        "from sklearn import metrics\n",
        "from sklearn.model_selection import GridSearchCV\n",
        "from sklearn.model_selection import RandomizedSearchCV\n",
        "from sklearn.metrics import roc_curve,roc_auc_score\n",
        "from sklearn import svm\n",
        "from sklearn.preprocessing import LabelEncoder\n",
        "from sklearn.preprocessing import OneHotEncoder\n",
        "from sklearn import preprocessing\n",
        "from sklearn.preprocessing import StandardScaler\n",
        "from sklearn.model_selection import train_test_split\n",
        "from sklearn.tree import DecisionTreeClassifier\n",
        "from pandas import DataFrame\n",
        "from sklearn.ensemble import RandomForestClassifier\n",
        "from sklearn.ensemble import AdaBoostClassifier\n",
        "from sklearn.ensemble import GradientBoostingClassifier"
      ]
    },
    {
      "cell_type": "code",
      "execution_count": null,
      "metadata": {
        "id": "NQHrr-F--TEN"
      },
      "outputs": [],
      "source": [
        "pd.set_option('display.float_format', lambda x:'%3f' %x)"
      ]
    },
    {
      "cell_type": "code",
      "execution_count": null,
      "metadata": {
        "id": "YNR1VGdw-VGV"
      },
      "outputs": [],
      "source": [
        "%matplotlib inline"
      ]
    },
    {
      "cell_type": "code",
      "execution_count": null,
      "metadata": {
        "colab": {
          "base_uri": "https://localhost:8080/"
        },
        "id": "MZbY4IkP-o2H",
        "outputId": "14b902e4-7111-417a-d883-51e686f65f0f"
      },
      "outputs": [
        {
          "name": "stdout",
          "output_type": "stream",
          "text": [
            "/content/gdrive/My Drive/Colab Notebooks\n"
          ]
        }
      ],
      "source": [
        "%cd /content/gdrive/My Drive/Colab Notebooks/\n"
      ]
    },
    {
      "cell_type": "markdown",
      "metadata": {
        "id": "x_oz5hHBAQM3"
      },
      "source": [
        "1.A. Read ‘TelcomCustomer-Churn_1.csv’ as a DataFrame and assign it to a variable"
      ]
    },
    {
      "cell_type": "code",
      "execution_count": null,
      "metadata": {
        "colab": {
          "base_uri": "https://localhost:8080/"
        },
        "id": "M_JPY7APAUUI",
        "outputId": "332f7d37-b86d-491a-b64a-709465ef5a2b"
      },
      "outputs": [
        {
          "name": "stdout",
          "output_type": "stream",
          "text": [
            "column info of dataset 1\n",
            "<class 'pandas.core.frame.DataFrame'>\n",
            "RangeIndex: 7043 entries, 0 to 7042\n",
            "Data columns (total 10 columns):\n",
            " #   Column           Non-Null Count  Dtype \n",
            "---  ------           --------------  ----- \n",
            " 0   customerID       7043 non-null   object\n",
            " 1   gender           7043 non-null   object\n",
            " 2   SeniorCitizen    7043 non-null   int64 \n",
            " 3   Partner          7043 non-null   object\n",
            " 4   Dependents       7043 non-null   object\n",
            " 5   tenure           7043 non-null   int64 \n",
            " 6   PhoneService     7043 non-null   object\n",
            " 7   MultipleLines    7043 non-null   object\n",
            " 8   InternetService  7043 non-null   object\n",
            " 9   OnlineSecurity   7043 non-null   object\n",
            "dtypes: int64(2), object(8)\n",
            "memory usage: 550.4+ KB\n",
            "-------------------------------------------------\n",
            "rows and column size of dataset\n"
          ]
        },
        {
          "data": {
            "text/plain": [
              "(7043, 10)"
            ]
          },
          "execution_count": 6,
          "metadata": {},
          "output_type": "execute_result"
        }
      ],
      "source": [
        "telecomCustomer_df1 = pd.read_csv(\"TelcomCustomer-Churn_1.csv\")\n",
        "\n",
        "print(\"column info of dataset 1\")\n",
        "telecomCustomer_df1.info()\n",
        "print(\"-------------------------------------------------\")\n",
        "print(\"rows and column size of dataset\")\n",
        "telecomCustomer_df1.shape"
      ]
    },
    {
      "cell_type": "markdown",
      "metadata": {
        "id": "_n4yojVDAVsm"
      },
      "source": [
        "1.B.Read ‘TelcomCustomer-Churn_2.csv’ as a DataFrame and assign it to a variable"
      ]
    },
    {
      "cell_type": "code",
      "execution_count": null,
      "metadata": {
        "colab": {
          "base_uri": "https://localhost:8080/"
        },
        "id": "sc25a6lPAbq2",
        "outputId": "57f1f22d-15f0-4cd4-bf55-d57db8d68225"
      },
      "outputs": [
        {
          "name": "stdout",
          "output_type": "stream",
          "text": [
            "column info of dataset 2\n",
            "<class 'pandas.core.frame.DataFrame'>\n",
            "RangeIndex: 7043 entries, 0 to 7042\n",
            "Data columns (total 12 columns):\n",
            " #   Column            Non-Null Count  Dtype  \n",
            "---  ------            --------------  -----  \n",
            " 0   customerID        7043 non-null   object \n",
            " 1   OnlineBackup      7043 non-null   object \n",
            " 2   DeviceProtection  7043 non-null   object \n",
            " 3   TechSupport       7043 non-null   object \n",
            " 4   StreamingTV       7043 non-null   object \n",
            " 5   StreamingMovies   7043 non-null   object \n",
            " 6   Contract          7043 non-null   object \n",
            " 7   PaperlessBilling  7043 non-null   object \n",
            " 8   PaymentMethod     7043 non-null   object \n",
            " 9   MonthlyCharges    7043 non-null   float64\n",
            " 10  TotalCharges      7043 non-null   object \n",
            " 11  Churn             7043 non-null   object \n",
            "dtypes: float64(1), object(11)\n",
            "memory usage: 660.4+ KB\n",
            "-------------------------------------------------\n",
            "rows and column size of dataset\n"
          ]
        },
        {
          "data": {
            "text/plain": [
              "(7043, 12)"
            ]
          },
          "execution_count": 7,
          "metadata": {},
          "output_type": "execute_result"
        }
      ],
      "source": [
        "telecomCustomer_df2 = pd.read_csv(\"TelcomCustomer-Churn_2.csv\")\n",
        "print(\"column info of dataset 2\")\n",
        "telecomCustomer_df2.info()\n",
        "print(\"-------------------------------------------------\")\n",
        "print(\"rows and column size of dataset\")\n",
        "telecomCustomer_df2.shape"
      ]
    },
    {
      "cell_type": "markdown",
      "metadata": {
        "id": "qYZyoSXbAiSp"
      },
      "source": [
        "1.c Merge both the DataFrames on key ‘customerID’ to form a single DataFrame"
      ]
    },
    {
      "cell_type": "code",
      "execution_count": null,
      "metadata": {
        "colab": {
          "base_uri": "https://localhost:8080/"
        },
        "id": "_QNq1SwkAjPT",
        "outputId": "2510a061-2d21-4b41-92f5-5e1681313976"
      },
      "outputs": [
        {
          "data": {
            "text/plain": [
              "(7043, 21)"
            ]
          },
          "execution_count": 8,
          "metadata": {},
          "output_type": "execute_result"
        }
      ],
      "source": [
        "merged = telecomCustomer_df1.merge(telecomCustomer_df2,on='customerID',how='outer',indicator=False)\n",
        "merged.shape"
      ]
    },
    {
      "cell_type": "code",
      "execution_count": null,
      "metadata": {
        "colab": {
          "base_uri": "https://localhost:8080/"
        },
        "id": "k65O_CNn6gQ6",
        "outputId": "ff9d36f2-1b96-4448-b9da-f853d002a47f"
      },
      "outputs": [
        {
          "name": "stdout",
          "output_type": "stream",
          "text": [
            "<class 'pandas.core.frame.DataFrame'>\n",
            "Int64Index: 7043 entries, 0 to 7042\n",
            "Data columns (total 21 columns):\n",
            " #   Column            Non-Null Count  Dtype  \n",
            "---  ------            --------------  -----  \n",
            " 0   customerID        7043 non-null   object \n",
            " 1   gender            7043 non-null   object \n",
            " 2   SeniorCitizen     7043 non-null   int64  \n",
            " 3   Partner           7043 non-null   object \n",
            " 4   Dependents        7043 non-null   object \n",
            " 5   tenure            7043 non-null   int64  \n",
            " 6   PhoneService      7043 non-null   object \n",
            " 7   MultipleLines     7043 non-null   object \n",
            " 8   InternetService   7043 non-null   object \n",
            " 9   OnlineSecurity    7043 non-null   object \n",
            " 10  OnlineBackup      7043 non-null   object \n",
            " 11  DeviceProtection  7043 non-null   object \n",
            " 12  TechSupport       7043 non-null   object \n",
            " 13  StreamingTV       7043 non-null   object \n",
            " 14  StreamingMovies   7043 non-null   object \n",
            " 15  Contract          7043 non-null   object \n",
            " 16  PaperlessBilling  7043 non-null   object \n",
            " 17  PaymentMethod     7043 non-null   object \n",
            " 18  MonthlyCharges    7043 non-null   float64\n",
            " 19  TotalCharges      7043 non-null   object \n",
            " 20  Churn             7043 non-null   object \n",
            "dtypes: float64(1), int64(2), object(18)\n",
            "memory usage: 1.2+ MB\n"
          ]
        }
      ],
      "source": [
        "merged.info()"
      ]
    },
    {
      "cell_type": "markdown",
      "metadata": {
        "id": "rF21ACWH-g2q"
      },
      "source": [
        "1.D. Data Understanding & Exploration.\n",
        ". Verify if all the columns are incorporated in the merged DataFrame by using a simple comparison\n",
        "Operator in Python"
      ]
    },
    {
      "cell_type": "code",
      "execution_count": null,
      "metadata": {
        "colab": {
          "base_uri": "https://localhost:8080/"
        },
        "id": "ZioGhBMQI19i",
        "outputId": "df61b860-70f4-46c3-f0fa-db571893fd53"
      },
      "outputs": [
        {
          "name": "stdout",
          "output_type": "stream",
          "text": [
            "comparing telecom customer churn1 dataset with merged:  all columns have been included\n",
            "comparing telecom customer churn2 dataset with merged:  all columns have been included\n"
          ]
        }
      ],
      "source": [
        "def compare(df_a, df_b):\n",
        "    orig = set(df_a.columns)\n",
        "    c = set(df_b.columns)\n",
        "    if orig.issubset(c):\n",
        "        return ('all columns have been included')\n",
        "    else:\n",
        "        return ('columns from individual dataset may not have been included into merged dataset')\n",
        "\n",
        "print(\"comparing telecom customer churn1 dataset with merged: \", compare(telecomCustomer_df1, merged))\n",
        "print(\"comparing telecom customer churn2 dataset with merged: \", compare(telecomCustomer_df2, merged))\n"
      ]
    },
    {
      "cell_type": "markdown",
      "metadata": {
        "id": "E1zktUeHM_kG"
      },
      "source": [
        "2.a Impute missing/unexpected values in the DataFrame"
      ]
    },
    {
      "cell_type": "code",
      "execution_count": null,
      "metadata": {
        "colab": {
          "base_uri": "https://localhost:8080/"
        },
        "id": "3Jan6k2WNAa7",
        "outputId": "dce69fe4-1b03-4382-ae63-5ff22321dbc2"
      },
      "outputs": [
        {
          "name": "stdout",
          "output_type": "stream",
          "text": [
            "customerID : ['7590-VHVEG' '5575-GNVDE' '3668-QPYBK' ... '4801-JZAZL' '8361-LTMKD'\n",
            " '3186-AJIEK']\n",
            "gender : ['Female' 'Male']\n",
            "SeniorCitizen : [0 1]\n",
            "Partner : ['Yes' 'No']\n",
            "Dependents : ['No' 'Yes']\n",
            "tenure : [ 1 34  2 45  8 22 10 28 62 13 16 58 49 25 69 52 71 21 12 30 47 72 17 27\n",
            "  5 46 11 70 63 43 15 60 18 66  9  3 31 50 64 56  7 42 35 48 29 65 38 68\n",
            " 32 55 37 36 41  6  4 33 67 23 57 61 14 20 53 40 59 24 44 19 54 51 26  0\n",
            " 39]\n",
            "PhoneService : ['No' 'Yes']\n",
            "MultipleLines : ['No phone service' 'No' 'Yes']\n",
            "InternetService : ['DSL' 'Fiber optic' 'No']\n",
            "OnlineSecurity : ['No' 'Yes' 'No internet service']\n",
            "OnlineBackup : ['Yes' 'No' 'No internet service']\n",
            "DeviceProtection : ['No' 'Yes' 'No internet service']\n",
            "TechSupport : ['No' 'Yes' 'No internet service']\n",
            "StreamingTV : ['No' 'Yes' 'No internet service']\n",
            "StreamingMovies : ['No' 'Yes' 'No internet service']\n",
            "Contract : ['Month-to-month' 'One year' 'Two year']\n",
            "PaperlessBilling : ['Yes' 'No']\n",
            "PaymentMethod : ['Electronic check' 'Mailed check' 'Bank transfer (automatic)'\n",
            " 'Credit card (automatic)']\n",
            "MonthlyCharges : [29.85 56.95 53.85 ... 63.1  44.2  78.7 ]\n",
            "TotalCharges : ['29.85' '1889.5' '108.15' ... '346.45' '306.6' '6844.5']\n",
            "Churn : ['No' 'Yes']\n"
          ]
        }
      ],
      "source": [
        "for col in merged.columns:\n",
        "    print(col,\":\", merged[col].unique())"
      ]
    },
    {
      "cell_type": "code",
      "execution_count": null,
      "metadata": {
        "id": "iQEv9Xa8ljBb"
      },
      "outputs": [],
      "source": [
        "merged = merged.replace([' '],np.nan)"
      ]
    },
    {
      "cell_type": "code",
      "execution_count": null,
      "metadata": {
        "colab": {
          "base_uri": "https://localhost:8080/"
        },
        "id": "SHm7h19oq-la",
        "outputId": "12b4ce11-73bc-4cee-d426-18031449e9f7"
      },
      "outputs": [
        {
          "name": "stdout",
          "output_type": "stream",
          "text": [
            "<class 'pandas.core.frame.DataFrame'>\n",
            "Int64Index: 7043 entries, 0 to 7042\n",
            "Data columns (total 21 columns):\n",
            " #   Column            Non-Null Count  Dtype  \n",
            "---  ------            --------------  -----  \n",
            " 0   customerID        7043 non-null   object \n",
            " 1   gender            7043 non-null   object \n",
            " 2   SeniorCitizen     7043 non-null   int64  \n",
            " 3   Partner           7043 non-null   object \n",
            " 4   Dependents        7043 non-null   object \n",
            " 5   tenure            7043 non-null   int64  \n",
            " 6   PhoneService      7043 non-null   object \n",
            " 7   MultipleLines     7043 non-null   object \n",
            " 8   InternetService   7043 non-null   object \n",
            " 9   OnlineSecurity    7043 non-null   object \n",
            " 10  OnlineBackup      7043 non-null   object \n",
            " 11  DeviceProtection  7043 non-null   object \n",
            " 12  TechSupport       7043 non-null   object \n",
            " 13  StreamingTV       7043 non-null   object \n",
            " 14  StreamingMovies   7043 non-null   object \n",
            " 15  Contract          7043 non-null   object \n",
            " 16  PaperlessBilling  7043 non-null   object \n",
            " 17  PaymentMethod     7043 non-null   object \n",
            " 18  MonthlyCharges    7043 non-null   float64\n",
            " 19  TotalCharges      7032 non-null   object \n",
            " 20  Churn             7043 non-null   object \n",
            "dtypes: float64(1), int64(2), object(18)\n",
            "memory usage: 1.2+ MB\n"
          ]
        }
      ],
      "source": [
        "merged.info()"
      ]
    },
    {
      "cell_type": "markdown",
      "metadata": {
        "id": "kBdPNPBdrbsN"
      },
      "source": [
        "2.b Make sure all the variables with continuous values are of ‘Float’ type [For Example: MonthlyCharges, TotalCharges]"
      ]
    },
    {
      "cell_type": "code",
      "execution_count": null,
      "metadata": {
        "colab": {
          "base_uri": "https://localhost:8080/",
          "height": 386
        },
        "id": "39AhEGZnriwW",
        "outputId": "635a27a7-7b63-4d37-ce41-10c74c9b730d"
      },
      "outputs": [
        {
          "data": {
            "text/html": [
              "\n",
              "  <div id=\"df-dbb2475b-fc50-4a70-a596-a03fd7684b72\">\n",
              "    <div class=\"colab-df-container\">\n",
              "      <div>\n",
              "<style scoped>\n",
              "    .dataframe tbody tr th:only-of-type {\n",
              "        vertical-align: middle;\n",
              "    }\n",
              "\n",
              "    .dataframe tbody tr th {\n",
              "        vertical-align: top;\n",
              "    }\n",
              "\n",
              "    .dataframe thead th {\n",
              "        text-align: right;\n",
              "    }\n",
              "</style>\n",
              "<table border=\"1\" class=\"dataframe\">\n",
              "  <thead>\n",
              "    <tr style=\"text-align: right;\">\n",
              "      <th></th>\n",
              "      <th>customerID</th>\n",
              "      <th>gender</th>\n",
              "      <th>SeniorCitizen</th>\n",
              "      <th>Partner</th>\n",
              "      <th>Dependents</th>\n",
              "      <th>tenure</th>\n",
              "      <th>PhoneService</th>\n",
              "      <th>MultipleLines</th>\n",
              "      <th>InternetService</th>\n",
              "      <th>OnlineSecurity</th>\n",
              "      <th>...</th>\n",
              "      <th>DeviceProtection</th>\n",
              "      <th>TechSupport</th>\n",
              "      <th>StreamingTV</th>\n",
              "      <th>StreamingMovies</th>\n",
              "      <th>Contract</th>\n",
              "      <th>PaperlessBilling</th>\n",
              "      <th>PaymentMethod</th>\n",
              "      <th>MonthlyCharges</th>\n",
              "      <th>TotalCharges</th>\n",
              "      <th>Churn</th>\n",
              "    </tr>\n",
              "  </thead>\n",
              "  <tbody>\n",
              "    <tr>\n",
              "      <th>0</th>\n",
              "      <td>7590-VHVEG</td>\n",
              "      <td>Female</td>\n",
              "      <td>0</td>\n",
              "      <td>Yes</td>\n",
              "      <td>No</td>\n",
              "      <td>1</td>\n",
              "      <td>No</td>\n",
              "      <td>No phone service</td>\n",
              "      <td>DSL</td>\n",
              "      <td>No</td>\n",
              "      <td>...</td>\n",
              "      <td>No</td>\n",
              "      <td>No</td>\n",
              "      <td>No</td>\n",
              "      <td>No</td>\n",
              "      <td>Month-to-month</td>\n",
              "      <td>Yes</td>\n",
              "      <td>Electronic check</td>\n",
              "      <td>29.850000</td>\n",
              "      <td>29.85</td>\n",
              "      <td>No</td>\n",
              "    </tr>\n",
              "    <tr>\n",
              "      <th>1</th>\n",
              "      <td>5575-GNVDE</td>\n",
              "      <td>Male</td>\n",
              "      <td>0</td>\n",
              "      <td>No</td>\n",
              "      <td>No</td>\n",
              "      <td>34</td>\n",
              "      <td>Yes</td>\n",
              "      <td>No</td>\n",
              "      <td>DSL</td>\n",
              "      <td>Yes</td>\n",
              "      <td>...</td>\n",
              "      <td>Yes</td>\n",
              "      <td>No</td>\n",
              "      <td>No</td>\n",
              "      <td>No</td>\n",
              "      <td>One year</td>\n",
              "      <td>No</td>\n",
              "      <td>Mailed check</td>\n",
              "      <td>56.950000</td>\n",
              "      <td>1889.5</td>\n",
              "      <td>No</td>\n",
              "    </tr>\n",
              "    <tr>\n",
              "      <th>2</th>\n",
              "      <td>3668-QPYBK</td>\n",
              "      <td>Male</td>\n",
              "      <td>0</td>\n",
              "      <td>No</td>\n",
              "      <td>No</td>\n",
              "      <td>2</td>\n",
              "      <td>Yes</td>\n",
              "      <td>No</td>\n",
              "      <td>DSL</td>\n",
              "      <td>Yes</td>\n",
              "      <td>...</td>\n",
              "      <td>No</td>\n",
              "      <td>No</td>\n",
              "      <td>No</td>\n",
              "      <td>No</td>\n",
              "      <td>Month-to-month</td>\n",
              "      <td>Yes</td>\n",
              "      <td>Mailed check</td>\n",
              "      <td>53.850000</td>\n",
              "      <td>108.15</td>\n",
              "      <td>Yes</td>\n",
              "    </tr>\n",
              "    <tr>\n",
              "      <th>3</th>\n",
              "      <td>7795-CFOCW</td>\n",
              "      <td>Male</td>\n",
              "      <td>0</td>\n",
              "      <td>No</td>\n",
              "      <td>No</td>\n",
              "      <td>45</td>\n",
              "      <td>No</td>\n",
              "      <td>No phone service</td>\n",
              "      <td>DSL</td>\n",
              "      <td>Yes</td>\n",
              "      <td>...</td>\n",
              "      <td>Yes</td>\n",
              "      <td>Yes</td>\n",
              "      <td>No</td>\n",
              "      <td>No</td>\n",
              "      <td>One year</td>\n",
              "      <td>No</td>\n",
              "      <td>Bank transfer (automatic)</td>\n",
              "      <td>42.300000</td>\n",
              "      <td>1840.75</td>\n",
              "      <td>No</td>\n",
              "    </tr>\n",
              "    <tr>\n",
              "      <th>4</th>\n",
              "      <td>9237-HQITU</td>\n",
              "      <td>Female</td>\n",
              "      <td>0</td>\n",
              "      <td>No</td>\n",
              "      <td>No</td>\n",
              "      <td>2</td>\n",
              "      <td>Yes</td>\n",
              "      <td>No</td>\n",
              "      <td>Fiber optic</td>\n",
              "      <td>No</td>\n",
              "      <td>...</td>\n",
              "      <td>No</td>\n",
              "      <td>No</td>\n",
              "      <td>No</td>\n",
              "      <td>No</td>\n",
              "      <td>Month-to-month</td>\n",
              "      <td>Yes</td>\n",
              "      <td>Electronic check</td>\n",
              "      <td>70.700000</td>\n",
              "      <td>151.65</td>\n",
              "      <td>Yes</td>\n",
              "    </tr>\n",
              "  </tbody>\n",
              "</table>\n",
              "<p>5 rows × 21 columns</p>\n",
              "</div>\n",
              "      <button class=\"colab-df-convert\" onclick=\"convertToInteractive('df-dbb2475b-fc50-4a70-a596-a03fd7684b72')\"\n",
              "              title=\"Convert this dataframe to an interactive table.\"\n",
              "              style=\"display:none;\">\n",
              "        \n",
              "  <svg xmlns=\"http://www.w3.org/2000/svg\" height=\"24px\"viewBox=\"0 0 24 24\"\n",
              "       width=\"24px\">\n",
              "    <path d=\"M0 0h24v24H0V0z\" fill=\"none\"/>\n",
              "    <path d=\"M18.56 5.44l.94 2.06.94-2.06 2.06-.94-2.06-.94-.94-2.06-.94 2.06-2.06.94zm-11 1L8.5 8.5l.94-2.06 2.06-.94-2.06-.94L8.5 2.5l-.94 2.06-2.06.94zm10 10l.94 2.06.94-2.06 2.06-.94-2.06-.94-.94-2.06-.94 2.06-2.06.94z\"/><path d=\"M17.41 7.96l-1.37-1.37c-.4-.4-.92-.59-1.43-.59-.52 0-1.04.2-1.43.59L10.3 9.45l-7.72 7.72c-.78.78-.78 2.05 0 2.83L4 21.41c.39.39.9.59 1.41.59.51 0 1.02-.2 1.41-.59l7.78-7.78 2.81-2.81c.8-.78.8-2.07 0-2.86zM5.41 20L4 18.59l7.72-7.72 1.47 1.35L5.41 20z\"/>\n",
              "  </svg>\n",
              "      </button>\n",
              "      \n",
              "  <style>\n",
              "    .colab-df-container {\n",
              "      display:flex;\n",
              "      flex-wrap:wrap;\n",
              "      gap: 12px;\n",
              "    }\n",
              "\n",
              "    .colab-df-convert {\n",
              "      background-color: #E8F0FE;\n",
              "      border: none;\n",
              "      border-radius: 50%;\n",
              "      cursor: pointer;\n",
              "      display: none;\n",
              "      fill: #1967D2;\n",
              "      height: 32px;\n",
              "      padding: 0 0 0 0;\n",
              "      width: 32px;\n",
              "    }\n",
              "\n",
              "    .colab-df-convert:hover {\n",
              "      background-color: #E2EBFA;\n",
              "      box-shadow: 0px 1px 2px rgba(60, 64, 67, 0.3), 0px 1px 3px 1px rgba(60, 64, 67, 0.15);\n",
              "      fill: #174EA6;\n",
              "    }\n",
              "\n",
              "    [theme=dark] .colab-df-convert {\n",
              "      background-color: #3B4455;\n",
              "      fill: #D2E3FC;\n",
              "    }\n",
              "\n",
              "    [theme=dark] .colab-df-convert:hover {\n",
              "      background-color: #434B5C;\n",
              "      box-shadow: 0px 1px 3px 1px rgba(0, 0, 0, 0.15);\n",
              "      filter: drop-shadow(0px 1px 2px rgba(0, 0, 0, 0.3));\n",
              "      fill: #FFFFFF;\n",
              "    }\n",
              "  </style>\n",
              "\n",
              "      <script>\n",
              "        const buttonEl =\n",
              "          document.querySelector('#df-dbb2475b-fc50-4a70-a596-a03fd7684b72 button.colab-df-convert');\n",
              "        buttonEl.style.display =\n",
              "          google.colab.kernel.accessAllowed ? 'block' : 'none';\n",
              "\n",
              "        async function convertToInteractive(key) {\n",
              "          const element = document.querySelector('#df-dbb2475b-fc50-4a70-a596-a03fd7684b72');\n",
              "          const dataTable =\n",
              "            await google.colab.kernel.invokeFunction('convertToInteractive',\n",
              "                                                     [key], {});\n",
              "          if (!dataTable) return;\n",
              "\n",
              "          const docLinkHtml = 'Like what you see? Visit the ' +\n",
              "            '<a target=\"_blank\" href=https://colab.research.google.com/notebooks/data_table.ipynb>data table notebook</a>'\n",
              "            + ' to learn more about interactive tables.';\n",
              "          element.innerHTML = '';\n",
              "          dataTable['output_type'] = 'display_data';\n",
              "          await google.colab.output.renderOutput(dataTable, element);\n",
              "          const docLink = document.createElement('div');\n",
              "          docLink.innerHTML = docLinkHtml;\n",
              "          element.appendChild(docLink);\n",
              "        }\n",
              "      </script>\n",
              "    </div>\n",
              "  </div>\n",
              "  "
            ],
            "text/plain": [
              "   customerID  gender  SeniorCitizen Partner Dependents  tenure PhoneService  \\\n",
              "0  7590-VHVEG  Female              0     Yes         No       1           No   \n",
              "1  5575-GNVDE    Male              0      No         No      34          Yes   \n",
              "2  3668-QPYBK    Male              0      No         No       2          Yes   \n",
              "3  7795-CFOCW    Male              0      No         No      45           No   \n",
              "4  9237-HQITU  Female              0      No         No       2          Yes   \n",
              "\n",
              "      MultipleLines InternetService OnlineSecurity  ... DeviceProtection  \\\n",
              "0  No phone service             DSL             No  ...               No   \n",
              "1                No             DSL            Yes  ...              Yes   \n",
              "2                No             DSL            Yes  ...               No   \n",
              "3  No phone service             DSL            Yes  ...              Yes   \n",
              "4                No     Fiber optic             No  ...               No   \n",
              "\n",
              "  TechSupport StreamingTV StreamingMovies        Contract PaperlessBilling  \\\n",
              "0          No          No              No  Month-to-month              Yes   \n",
              "1          No          No              No        One year               No   \n",
              "2          No          No              No  Month-to-month              Yes   \n",
              "3         Yes          No              No        One year               No   \n",
              "4          No          No              No  Month-to-month              Yes   \n",
              "\n",
              "               PaymentMethod MonthlyCharges  TotalCharges Churn  \n",
              "0           Electronic check      29.850000         29.85    No  \n",
              "1               Mailed check      56.950000        1889.5    No  \n",
              "2               Mailed check      53.850000        108.15   Yes  \n",
              "3  Bank transfer (automatic)      42.300000       1840.75    No  \n",
              "4           Electronic check      70.700000        151.65   Yes  \n",
              "\n",
              "[5 rows x 21 columns]"
            ]
          },
          "execution_count": 14,
          "metadata": {},
          "output_type": "execute_result"
        }
      ],
      "source": [
        "merged.head()"
      ]
    },
    {
      "cell_type": "code",
      "execution_count": null,
      "metadata": {
        "colab": {
          "base_uri": "https://localhost:8080/"
        },
        "id": "-WgBv9Svu69z",
        "outputId": "e1c2cfcc-440b-496c-f997-7f4a152c0c32"
      },
      "outputs": [
        {
          "data": {
            "text/plain": [
              "0         29.85\n",
              "1        1889.5\n",
              "2        108.15\n",
              "3       1840.75\n",
              "4        151.65\n",
              "         ...   \n",
              "7038     1990.5\n",
              "7039     7362.9\n",
              "7040     346.45\n",
              "7041      306.6\n",
              "7042     6844.5\n",
              "Name: TotalCharges, Length: 7043, dtype: object"
            ]
          },
          "execution_count": 15,
          "metadata": {},
          "output_type": "execute_result"
        }
      ],
      "source": [
        "merged['TotalCharges'].replace([' '],np.nan)"
      ]
    },
    {
      "cell_type": "code",
      "execution_count": null,
      "metadata": {
        "id": "HMvR1eG_vVOR"
      },
      "outputs": [],
      "source": [
        "merged['TotalCharges'] = merged['TotalCharges'].astype(float)"
      ]
    },
    {
      "cell_type": "code",
      "execution_count": null,
      "metadata": {
        "id": "MBXhRjdFCSYF"
      },
      "outputs": [],
      "source": [
        "merged.dropna(inplace=True)"
      ]
    },
    {
      "cell_type": "code",
      "execution_count": null,
      "metadata": {
        "id": "4IIm0vJRAt1V"
      },
      "outputs": [],
      "source": [
        "merged.drop(columns='customerID', inplace=True)"
      ]
    },
    {
      "cell_type": "code",
      "execution_count": null,
      "metadata": {
        "id": "ZY86_pW_oiv6"
      },
      "outputs": [],
      "source": [
        "merged['SeniorCitizen'] = merged['SeniorCitizen'].astype('object')"
      ]
    },
    {
      "cell_type": "code",
      "execution_count": null,
      "metadata": {
        "colab": {
          "base_uri": "https://localhost:8080/"
        },
        "id": "d4BEP5xmvOJ8",
        "outputId": "bb710c18-627f-4aec-c080-e38dcec3273b"
      },
      "outputs": [
        {
          "name": "stdout",
          "output_type": "stream",
          "text": [
            "<class 'pandas.core.frame.DataFrame'>\n",
            "Int64Index: 7032 entries, 0 to 7042\n",
            "Data columns (total 20 columns):\n",
            " #   Column            Non-Null Count  Dtype  \n",
            "---  ------            --------------  -----  \n",
            " 0   gender            7032 non-null   object \n",
            " 1   SeniorCitizen     7032 non-null   object \n",
            " 2   Partner           7032 non-null   object \n",
            " 3   Dependents        7032 non-null   object \n",
            " 4   tenure            7032 non-null   int64  \n",
            " 5   PhoneService      7032 non-null   object \n",
            " 6   MultipleLines     7032 non-null   object \n",
            " 7   InternetService   7032 non-null   object \n",
            " 8   OnlineSecurity    7032 non-null   object \n",
            " 9   OnlineBackup      7032 non-null   object \n",
            " 10  DeviceProtection  7032 non-null   object \n",
            " 11  TechSupport       7032 non-null   object \n",
            " 12  StreamingTV       7032 non-null   object \n",
            " 13  StreamingMovies   7032 non-null   object \n",
            " 14  Contract          7032 non-null   object \n",
            " 15  PaperlessBilling  7032 non-null   object \n",
            " 16  PaymentMethod     7032 non-null   object \n",
            " 17  MonthlyCharges    7032 non-null   float64\n",
            " 18  TotalCharges      7032 non-null   float64\n",
            " 19  Churn             7032 non-null   object \n",
            "dtypes: float64(2), int64(1), object(17)\n",
            "memory usage: 1.1+ MB\n"
          ]
        }
      ],
      "source": [
        "merged.info()"
      ]
    },
    {
      "cell_type": "markdown",
      "metadata": {
        "id": "Xt-nhy5E_bXX"
      },
      "source": [
        "2.c Create a function that will accept a DataFrame as input and return pie-charts for all the appropriate Categorical features. Clearly show percentage distribution in the pie-chart"
      ]
    },
    {
      "cell_type": "code",
      "execution_count": null,
      "metadata": {
        "id": "A6YSdcGj_eUg"
      },
      "outputs": [],
      "source": [
        "def pie_chart_for_categorical_variables(df_pie,m):\n",
        "  categorical_columns=['gender', 'SeniorCitizen', 'Partner', 'Dependents', 'PhoneService', 'MultipleLines', 'InternetService', 'OnlineSecurity', 'OnlineBackup', 'DeviceProtection', 'TechSupport', 'StreamingTV', 'StreamingMovies', 'Contract', 'PaperlessBilling', 'PaymentMethod']\n",
        "\n",
        "  number_cols=m\n",
        "  number_rows = len(categorical_columns) // number_cols + (len(categorical_columns) % number_cols > 0)\n",
        "  #number_rows = len(categorical_columns) // number_cols\n",
        "\n",
        "  plt.figure(figsize=(15, 12))\n",
        "  plt.suptitle(\"Pie-Charts for Categorical Variables in the dataframe\", fontsize=10, y=0.95)\n",
        "\n",
        "  for n, col in enumerate(categorical_columns):\n",
        "    ax_n = plt.subplot(number_rows, number_cols, n+1)\n",
        "    df_pie.groupby(col).size().plot(kind='pie', autopct='%.2f%%', ax=ax_n, radius=1.5,textprops={'fontsize': 6})\n",
        "    ax_n.set_title(col)\n",
        "    plt.show()\n"
      ]
    },
    {
      "cell_type": "code",
      "execution_count": null,
      "metadata": {
        "colab": {
          "base_uri": "https://localhost:8080/",
          "height": 1000
        },
        "id": "IJyINrvHPgK3",
        "outputId": "a46a65db-ef02-4aa7-966f-d0ba631443fa"
      },
      "outputs": [
        {
          "data": {
            "image/png": "[encoded data removed]",
            "text/plain": [
              "<Figure size 1500x1200 with 1 Axes>"
            ]
          },
          "metadata": {},
          "output_type": "display_data"
        },
        {
          "data": {
            "image/png": "[encoded data removed]",
            "text/plain": [
              "<Figure size 640x480 with 1 Axes>"
            ]
          },
          "metadata": {},
          "output_type": "display_data"
        },
        {
          "data": {
            "image/png": "[encoded data removed]",
            "text/plain": [
              "<Figure size 640x480 with 1 Axes>"
            ]
          },
          "metadata": {},
          "output_type": "display_data"
        },
        {
          "data": {
            "image/png": "[encoded data removed]",
            "text/plain": [
              "<Figure size 640x480 with 1 Axes>"
            ]
          },
          "metadata": {},
          "output_type": "display_data"
        },
        {
          "data": {
            "image/png": "[encoded data removed]",
            "text/plain": [
              "<Figure size 640x480 with 1 Axes>"
            ]
          },
          "metadata": {},
          "output_type": "display_data"
        },
        {
          "data": {
            "image/png": "[encoded data removed]",
            "text/plain": [
              "<Figure size 640x480 with 1 Axes>"
            ]
          },
          "metadata": {},
          "output_type": "display_data"
        },
        {
          "data": {
            "image/png": "[encoded data removed]",
            "text/plain": [
              "<Figure size 640x480 with 1 Axes>"
            ]
          },
          "metadata": {},
          "output_type": "display_data"
        },
        {
          "data": {
            "image/png": "[encoded data removed]",
            "text/plain": [
              "<Figure size 640x480 with 1 Axes>"
            ]
          },
          "metadata": {},
          "output_type": "display_data"
        },
        {
          "data": {
            "image/png": "[encoded data removed]",
            "text/plain": [
              "<Figure size 640x480 with 1 Axes>"
            ]
          },
          "metadata": {},
          "output_type": "display_data"
        },
        {
          "data": {
            "image/png": "[encoded data removed]",
            "text/plain": [
              "<Figure size 640x480 with 1 Axes>"
            ]
          },
          "metadata": {},
          "output_type": "display_data"
        },
        {
          "data": {
            "image/png": "[encoded data removed]",
            "text/plain": [
              "<Figure size 640x480 with 1 Axes>"
            ]
          },
          "metadata": {},
          "output_type": "display_data"
        },
        {
          "data": {
            "image/png": "[encoded data removed]",
            "text/plain": [
              "<Figure size 640x480 with 1 Axes>"
            ]
          },
          "metadata": {},
          "output_type": "display_data"
        },
        {
          "data": {
            "image/png": "[encoded data removed]",
            "text/plain": [
              "<Figure size 640x480 with 1 Axes>"
            ]
          },
          "metadata": {},
          "output_type": "display_data"
        },
        {
          "data": {
            "image/png": "[encoded data removed]",
            "text/plain": [
              "<Figure size 640x480 with 1 Axes>"
            ]
          },
          "metadata": {},
          "output_type": "display_data"
        },
        {
          "data": {
            "image/png": "[encoded data removed]",
            "text/plain": [
              "<Figure size 640x480 with 1 Axes>"
            ]
          },
          "metadata": {},
          "output_type": "display_data"
        },
        {
          "data": {
            "image/png": "[encoded data removed]",
            "text/plain": [
              "<Figure size 640x480 with 1 Axes>"
            ]
          },
          "metadata": {},
          "output_type": "display_data"
        }
      ],
      "source": [
        "pie_chart_for_categorical_variables(merged,4)"
      ]
    },
    {
      "cell_type": "markdown",
      "metadata": {
        "id": "0bsCKOINawG2"
      },
      "source": [
        "2.d Share insights for Q2.c"
      ]
    },
    {
      "cell_type": "markdown",
      "metadata": {
        "id": "5oh4nisARJ6b"
      },
      "source": [
        "1) The usage by both genders is equal in terms of percentage\n",
        "2) The number of senior citizens utilising the service is more\n",
        "3) Most of the customers have partners\n",
        "4) Most of the customers are independent\n",
        "5) 90% of customers use phone service\n",
        "6) Majority of customers do not have multiple lines\n",
        "7) Major percentage of customers use Fiber Optic and DSL\n",
        "8) Most of the customers have not opted for Online Security\n",
        "9) Most of the customers have not opted for Devide Protection\n",
        "10) Most of the customers have not opted for Tech Support\n",
        "11) Only 40 % of customers have opted for Streaming TV & Streaming Movies\n",
        "12) Maximum customers have month to month contract renewal & payment system\n",
        "13) About 60% customers opt for paperless billing\n",
        "14) Payment method used by various customers is different like electronic check, mailed check, bank transfer and credit card payment"
      ]
    },
    {
      "cell_type": "markdown",
      "metadata": {
        "id": "H6Ku8-XZbLej"
      },
      "source": [
        "2.e.Encode all the appropriate Categorical features with the best suitable approach"
      ]
    },
    {
      "cell_type": "code",
      "execution_count": null,
      "metadata": {
        "colab": {
          "base_uri": "https://localhost:8080/"
        },
        "id": "Qvsm2KKhGktA",
        "outputId": "36617fbe-28d9-43c5-b0c0-7f2910bab382"
      },
      "outputs": [
        {
          "name": "stdout",
          "output_type": "stream",
          "text": [
            "['gender', 'SeniorCitizen', 'Partner', 'Dependents', 'PhoneService', 'MultipleLines', 'InternetService', 'OnlineSecurity', 'OnlineBackup', 'DeviceProtection', 'TechSupport', 'StreamingTV', 'StreamingMovies', 'Contract', 'PaperlessBilling', 'PaymentMethod']\n",
            "tenure                                       int64\n",
            "MonthlyCharges                             float64\n",
            "TotalCharges                               float64\n",
            "Churn                                        int64\n",
            "gender_Female                                uint8\n",
            "gender_Male                                  uint8\n",
            "SeniorCitizen_0                              uint8\n",
            "SeniorCitizen_1                              uint8\n",
            "Partner_No                                   uint8\n",
            "Partner_Yes                                  uint8\n",
            "Dependents_No                                uint8\n",
            "Dependents_Yes                               uint8\n",
            "PhoneService_No                              uint8\n",
            "PhoneService_Yes                             uint8\n",
            "MultipleLines_No                             uint8\n",
            "MultipleLines_No phone service               uint8\n",
            "MultipleLines_Yes                            uint8\n",
            "InternetService_DSL                          uint8\n",
            "InternetService_Fiber optic                  uint8\n",
            "InternetService_No                           uint8\n",
            "OnlineSecurity_No                            uint8\n",
            "OnlineSecurity_No internet service           uint8\n",
            "OnlineSecurity_Yes                           uint8\n",
            "OnlineBackup_No                              uint8\n",
            "OnlineBackup_No internet service             uint8\n",
            "OnlineBackup_Yes                             uint8\n",
            "DeviceProtection_No                          uint8\n",
            "DeviceProtection_No internet service         uint8\n",
            "DeviceProtection_Yes                         uint8\n",
            "TechSupport_No                               uint8\n",
            "TechSupport_No internet service              uint8\n",
            "TechSupport_Yes                              uint8\n",
            "StreamingTV_No                               uint8\n",
            "StreamingTV_No internet service              uint8\n",
            "StreamingTV_Yes                              uint8\n",
            "StreamingMovies_No                           uint8\n",
            "StreamingMovies_No internet service          uint8\n",
            "StreamingMovies_Yes                          uint8\n",
            "Contract_Month-to-month                      uint8\n",
            "Contract_One year                            uint8\n",
            "Contract_Two year                            uint8\n",
            "PaperlessBilling_No                          uint8\n",
            "PaperlessBilling_Yes                         uint8\n",
            "PaymentMethod_Bank transfer (automatic)      uint8\n",
            "PaymentMethod_Credit card (automatic)        uint8\n",
            "PaymentMethod_Electronic check               uint8\n",
            "PaymentMethod_Mailed check                   uint8\n",
            "dtype: object\n"
          ]
        },
        {
          "name": "stderr",
          "output_type": "stream",
          "text": [
            "<ipython-input-23-7e8a3dc1899e>:10: FutureWarning: In a future version, the Index constructor will not infer numeric dtypes when passed object-dtype sequences (matching Series behavior)\n",
            "  merged = pd.get_dummies(merged,columns=categorical_columns)\n"
          ]
        }
      ],
      "source": [
        "categorical_columns=['gender', 'SeniorCitizen', 'Partner', 'Dependents', 'PhoneService', 'MultipleLines', 'InternetService', 'OnlineSecurity', 'OnlineBackup', 'DeviceProtection', 'TechSupport', 'StreamingTV', 'StreamingMovies', 'Contract', 'PaperlessBilling', 'PaymentMethod']\n",
        "print(categorical_columns)\n",
        "\n",
        "# label encoding for dependent variable 'Churn'\n",
        "le=LabelEncoder()\n",
        "encoded_variable=le.fit_transform(merged['Churn'])\n",
        "merged['Churn'] = encoded_variable\n",
        "\n",
        "#encoding for categorical columns\n",
        "merged = pd.get_dummies(merged,columns=categorical_columns)\n",
        "merged.head()\n",
        "print(merged.dtypes)\n"
      ]
    },
    {
      "cell_type": "markdown",
      "metadata": {
        "id": "WbYwg4vJI2k-"
      },
      "source": [
        "2.f Split the data into 80% train and 20% test"
      ]
    },
    {
      "cell_type": "code",
      "execution_count": null,
      "metadata": {
        "id": "snT8jwtKI3uw"
      },
      "outputs": [],
      "source": [
        "X=merged.drop(['Churn'], axis=1)\n",
        "\n",
        "Y=merged['Churn']\n",
        "\n",
        "X_train, X_test, y_train, y_test = train_test_split(X, Y, test_size=0.20, random_state=1)"
      ]
    },
    {
      "cell_type": "code",
      "execution_count": null,
      "metadata": {
        "colab": {
          "base_uri": "https://localhost:8080/"
        },
        "id": "y45jTWeTJV_t",
        "outputId": "fbd2385c-6518-42de-ce15-9b0a811651df"
      },
      "outputs": [
        {
          "name": "stdout",
          "output_type": "stream",
          "text": [
            "(5625, 46)\n",
            "(5625,)\n"
          ]
        }
      ],
      "source": [
        "print(X_train.shape)\n",
        "print(y_train.shape)"
      ]
    },
    {
      "cell_type": "code",
      "execution_count": null,
      "metadata": {
        "colab": {
          "base_uri": "https://localhost:8080/"
        },
        "id": "71boEo2BJX_l",
        "outputId": "ffbe1de4-1cdc-40ec-ca90-825c057fefba"
      },
      "outputs": [
        {
          "name": "stdout",
          "output_type": "stream",
          "text": [
            "(1407, 46)\n",
            "(1407,)\n"
          ]
        }
      ],
      "source": [
        "print(X_test.shape)\n",
        "print(y_test.shape)"
      ]
    },
    {
      "cell_type": "markdown",
      "metadata": {
        "id": "z6b6LuWDKLMa"
      },
      "source": [
        "2.g Normalize/Standardize the data with the best suitable approach"
      ]
    },
    {
      "cell_type": "markdown",
      "metadata": {
        "id": "rS8BVHFKyYMb"
      },
      "source": [
        "Normalizing"
      ]
    },
    {
      "cell_type": "code",
      "execution_count": null,
      "metadata": {
        "id": "BcS6kD5sr9Dm"
      },
      "outputs": [],
      "source": [
        "# data normalization with sklearn\n",
        "from sklearn.preprocessing import MinMaxScaler\n",
        "\n",
        "X_train_norm = X_train.copy()\n",
        "X_test_norm = X_test.copy()\n",
        "\n",
        "X_train_norm[['MonthlyCharges','TotalCharges']] = MinMaxScaler().fit_transform(X_train_norm[['MonthlyCharges','TotalCharges']])\n",
        "X_test_norm[['MonthlyCharges','TotalCharges']] = MinMaxScaler().fit_transform(X_test_norm[['MonthlyCharges','TotalCharges']])\n"
      ]
    },
    {
      "cell_type": "markdown",
      "metadata": {
        "id": "QhApDa5AqM98"
      },
      "source": [
        "Standardization"
      ]
    },
    {
      "cell_type": "code",
      "execution_count": null,
      "metadata": {
        "id": "-Iva5_Rdhiz8"
      },
      "outputs": [],
      "source": [
        "# data normalization with sklearn\n",
        "from sklearn.preprocessing import StandardScaler\n",
        "\n",
        "X_train_stand = X_train.copy()\n",
        "X_test_stand = X_test.copy()\n",
        "\n",
        "num_columns=['MonthlyCharges','TotalCharges']\n",
        "\n",
        "# apply standardization on numerical features\n",
        "for i in num_columns:\n",
        "\n",
        "    # fit on training data column\n",
        "    scale = StandardScaler().fit(X_train_stand[[i]])\n",
        "\n",
        "    # transform the training data column\n",
        "    X_train_stand[i] = scale.transform(X_train_stand[[i]])\n",
        "\n",
        "    # transform the testing data column\n",
        "    X_test_stand[i] = scale.transform(X_test_stand[[i]])\n"
      ]
    },
    {
      "cell_type": "markdown",
      "metadata": {
        "id": "yBCVQLgvNJYS"
      },
      "source": [
        "3.a Train a model using Decision tree and check the performance of the model on train and test data"
      ]
    },
    {
      "cell_type": "code",
      "execution_count": null,
      "metadata": {
        "colab": {
          "base_uri": "https://localhost:8080/"
        },
        "id": "9uFdCfTesfz6",
        "outputId": "634acf52-1381-48ba-e945-c52b49ab4808"
      },
      "outputs": [
        {
          "name": "stdout",
          "output_type": "stream",
          "text": [
            "<class 'pandas.core.frame.DataFrame'>\n",
            "Int64Index: 5625 entries, 3457 to 5165\n",
            "Data columns (total 46 columns):\n",
            " #   Column                                   Non-Null Count  Dtype  \n",
            "---  ------                                   --------------  -----  \n",
            " 0   tenure                                   5625 non-null   int64  \n",
            " 1   MonthlyCharges                           5625 non-null   float64\n",
            " 2   TotalCharges                             5625 non-null   float64\n",
            " 3   gender_Female                            5625 non-null   uint8  \n",
            " 4   gender_Male                              5625 non-null   uint8  \n",
            " 5   SeniorCitizen_0                          5625 non-null   uint8  \n",
            " 6   SeniorCitizen_1                          5625 non-null   uint8  \n",
            " 7   Partner_No                               5625 non-null   uint8  \n",
            " 8   Partner_Yes                              5625 non-null   uint8  \n",
            " 9   Dependents_No                            5625 non-null   uint8  \n",
            " 10  Dependents_Yes                           5625 non-null   uint8  \n",
            " 11  PhoneService_No                          5625 non-null   uint8  \n",
            " 12  PhoneService_Yes                         5625 non-null   uint8  \n",
            " 13  MultipleLines_No                         5625 non-null   uint8  \n",
            " 14  MultipleLines_No phone service           5625 non-null   uint8  \n",
            " 15  MultipleLines_Yes                        5625 non-null   uint8  \n",
            " 16  InternetService_DSL                      5625 non-null   uint8  \n",
            " 17  InternetService_Fiber optic              5625 non-null   uint8  \n",
            " 18  InternetService_No                       5625 non-null   uint8  \n",
            " 19  OnlineSecurity_No                        5625 non-null   uint8  \n",
            " 20  OnlineSecurity_No internet service       5625 non-null   uint8  \n",
            " 21  OnlineSecurity_Yes                       5625 non-null   uint8  \n",
            " 22  OnlineBackup_No                          5625 non-null   uint8  \n",
            " 23  OnlineBackup_No internet service         5625 non-null   uint8  \n",
            " 24  OnlineBackup_Yes                         5625 non-null   uint8  \n",
            " 25  DeviceProtection_No                      5625 non-null   uint8  \n",
            " 26  DeviceProtection_No internet service     5625 non-null   uint8  \n",
            " 27  DeviceProtection_Yes                     5625 non-null   uint8  \n",
            " 28  TechSupport_No                           5625 non-null   uint8  \n",
            " 29  TechSupport_No internet service          5625 non-null   uint8  \n",
            " 30  TechSupport_Yes                          5625 non-null   uint8  \n",
            " 31  StreamingTV_No                           5625 non-null   uint8  \n",
            " 32  StreamingTV_No internet service          5625 non-null   uint8  \n",
            " 33  StreamingTV_Yes                          5625 non-null   uint8  \n",
            " 34  StreamingMovies_No                       5625 non-null   uint8  \n",
            " 35  StreamingMovies_No internet service      5625 non-null   uint8  \n",
            " 36  StreamingMovies_Yes                      5625 non-null   uint8  \n",
            " 37  Contract_Month-to-month                  5625 non-null   uint8  \n",
            " 38  Contract_One year                        5625 non-null   uint8  \n",
            " 39  Contract_Two year                        5625 non-null   uint8  \n",
            " 40  PaperlessBilling_No                      5625 non-null   uint8  \n",
            " 41  PaperlessBilling_Yes                     5625 non-null   uint8  \n",
            " 42  PaymentMethod_Bank transfer (automatic)  5625 non-null   uint8  \n",
            " 43  PaymentMethod_Credit card (automatic)    5625 non-null   uint8  \n",
            " 44  PaymentMethod_Electronic check           5625 non-null   uint8  \n",
            " 45  PaymentMethod_Mailed check               5625 non-null   uint8  \n",
            "dtypes: float64(2), int64(1), uint8(43)\n",
            "memory usage: 412.0 KB\n"
          ]
        }
      ],
      "source": [
        "X_train_norm.info()"
      ]
    },
    {
      "cell_type": "code",
      "execution_count": null,
      "metadata": {
        "colab": {
          "base_uri": "https://localhost:8080/"
        },
        "id": "PkPktaNjz9Lb",
        "outputId": "f6d76721-0c02-4931-ce69-a81f9c44fedd"
      },
      "outputs": [
        {
          "name": "stdout",
          "output_type": "stream",
          "text": [
            "<class 'pandas.core.series.Series'>\n",
            "Int64Index: 5625 entries, 3457 to 5165\n",
            "Series name: Churn\n",
            "Non-Null Count  Dtype\n",
            "--------------  -----\n",
            "5625 non-null   int64\n",
            "dtypes: int64(1)\n",
            "memory usage: 87.9 KB\n"
          ]
        }
      ],
      "source": [
        "y_train.info()"
      ]
    },
    {
      "cell_type": "code",
      "execution_count": null,
      "metadata": {
        "colab": {
          "base_uri": "https://localhost:8080/"
        },
        "id": "ZM7nwxfWNJAl",
        "outputId": "97411ee7-b192-4981-dde5-9ac75c007247"
      },
      "outputs": [
        {
          "name": "stdout",
          "output_type": "stream",
          "text": [
            "Decision Tree Classifier\n",
            "accuracy of training data: 0.7909333333333334\n",
            "accuracy of testing data: 0.7903340440653873\n",
            "Precision score for Test data 0.6651162790697674\n",
            "Precision score for Train data 0.6991473812423873\n",
            "Recall score for Test data 0.3907103825136612\n",
            "Recall score for Test data 0.3819028609447771\n",
            "Classification report for test\n",
            "              precision    recall  f1-score   support\n",
            "\n",
            "           0       0.81      0.93      0.87      1041\n",
            "           1       0.67      0.39      0.49       366\n",
            "\n",
            "    accuracy                           0.79      1407\n",
            "   macro avg       0.74      0.66      0.68      1407\n",
            "weighted avg       0.77      0.79      0.77      1407\n",
            "\n",
            "Classification report for train\n",
            "              precision    recall  f1-score   support\n",
            "\n",
            "           0       0.81      0.94      0.87      4122\n",
            "           1       0.70      0.38      0.49      1503\n",
            "\n",
            "    accuracy                           0.79      5625\n",
            "   macro avg       0.75      0.66      0.68      5625\n",
            "weighted avg       0.78      0.79      0.77      5625\n",
            "\n"
          ]
        }
      ],
      "source": [
        "decision_model = DecisionTreeClassifier(criterion ='gini', random_state=0, max_depth=3)\n",
        "\n",
        "decision_model.fit(X_train_norm, y_train)\n",
        "\n",
        "y_train_predict = decision_model.predict(X_train_norm)\n",
        "y_test_predict_dm = decision_model.predict(X_test_norm)\n",
        "\n",
        "print(\"Decision Tree Classifier\")\n",
        "\n",
        "train_accuracy_dtr = decision_model.score(X_train_norm,y_train)\n",
        "print(\"accuracy of training data:\",train_accuracy_dtr)\n",
        "\n",
        "test_accuracy_dtr = decision_model.score(X_test_norm,y_test)\n",
        "print(\"accuracy of testing data:\",test_accuracy_dtr)\n",
        "\n",
        "print(\"Precision score for Test data\", metrics.precision_score(y_test,y_test_predict_dm))\n",
        "print(\"Precision score for Train data\", metrics.precision_score(y_train,y_train_predict))\n",
        "\n",
        "print(\"Recall score for Test data\", metrics.recall_score(y_test,y_test_predict_dm))\n",
        "print(\"Recall score for Test data\", metrics.recall_score(y_train,y_train_predict))\n",
        "\n",
        "print(\"Classification report for test\")\n",
        "print(metrics.classification_report(y_test, y_test_predict_dm))\n",
        "\n",
        "print(\"Classification report for train\")\n",
        "print(metrics.classification_report(y_train, y_train_predict))\n"
      ]
    },
    {
      "cell_type": "code",
      "execution_count": null,
      "metadata": {
        "colab": {
          "base_uri": "https://localhost:8080/",
          "height": 504
        },
        "id": "1jIpfnjCxLbR",
        "outputId": "1d1f9619-ba91-4581-e78b-f8dea8ec7e8f"
      },
      "outputs": [
        {
          "data": {
            "text/plain": [
              "[Text(0, 0.5, 'No'), Text(0, 1.5, 'Yes')]"
            ]
          },
          "execution_count": 32,
          "metadata": {},
          "output_type": "execute_result"
        },
        {
          "data": {
            "image/png": "[encoded data removed]",
            "text/plain": [
              "<Figure size 700x500 with 2 Axes>"
            ]
          },
          "metadata": {},
          "output_type": "display_data"
        }
      ],
      "source": [
        "cm_dm=metrics.confusion_matrix(y_test, y_test_predict_dm)\n",
        "df_cm_dm = pd.DataFrame(cm_dm)\n",
        "\n",
        "plt.figure(figsize = (7,5))\n",
        "plt.title(\"Model used: Decision Tree\")\n",
        "ax1=sns.heatmap(df_cm_dm, annot=True, fmt='g')\n",
        "ax1.set_xlabel('Predicted Value');\n",
        "ax1.set_ylabel('Actual Value');\n",
        "ax1.xaxis.set_ticklabels(['No', 'Yes'])\n",
        "ax1.yaxis.set_ticklabels(['No', 'Yes'])\n"
      ]
    },
    {
      "cell_type": "markdown",
      "metadata": {
        "id": "0j1p1Vpk2-4Z"
      },
      "source": [
        "3.b Use grid search and improve the performance of the Decision tree model , check the performance of the model on train and test data , provide the differences observed in performance in Q3.a and Q3.b"
      ]
    },
    {
      "cell_type": "code",
      "execution_count": null,
      "metadata": {
        "colab": {
          "base_uri": "https://localhost:8080/"
        },
        "id": "olGXk3io9bFf",
        "outputId": "6f93ae2d-974b-4ad2-eab6-2866da38d2dc"
      },
      "outputs": [
        {
          "name": "stdout",
          "output_type": "stream",
          "text": [
            "{'criterion': 'gini', 'max_depth': 3, 'max_features': 'log2', 'splitter': 'best'}\n",
            "accuracy : 0.5629280177187154\n"
          ]
        }
      ],
      "source": [
        "decision_model_tuned = DecisionTreeClassifier()\n",
        "\n",
        "grid_parameters_dtree = {'max_depth': [3, 4, 5, 6],\n",
        "                         'max_features': [\"log2\",\"sqrt\"],\n",
        "                         'criterion': ['gini', 'entropy', 'log_loss'],\n",
        "                         'splitter':['best','random']}\n",
        "\n",
        "acc_scorer=metrics.make_scorer(metrics.recall_score)\n",
        "\n",
        "grid_search_dtree = GridSearchCV(decision_model_tuned, grid_parameters_dtree, scoring=acc_scorer, cv=5)\n",
        "\n",
        "grid_search_dtree= grid_search_dtree.fit(X_train_norm, y_train)\n",
        "\n",
        "print(grid_search_dtree.best_params_)\n",
        "\n",
        "best_model = grid_search_dtree.best_estimator_\n",
        "\n",
        "print(\"accuracy :\",grid_search_dtree.best_score_)"
      ]
    },
    {
      "cell_type": "code",
      "execution_count": null,
      "metadata": {
        "colab": {
          "base_uri": "https://localhost:8080/",
          "height": 623
        },
        "id": "lHf-8r6Oqbca",
        "outputId": "24e6aafd-5714-4b84-ac0e-d8f6bcb422a6"
      },
      "outputs": [
        {
          "name": "stdout",
          "output_type": "stream",
          "text": [
            "              precision    recall  f1-score   support\n",
            "\n",
            "           0       0.85      0.85      0.85      1041\n",
            "           1       0.58      0.58      0.58       366\n",
            "\n",
            "    accuracy                           0.78      1407\n",
            "   macro avg       0.71      0.72      0.71      1407\n",
            "weighted avg       0.78      0.78      0.78      1407\n",
            " \n",
            "\n"
          ]
        },
        {
          "data": {
            "image/png": "[encoded data removed]",
            "text/plain": [
              "<Figure size 640x480 with 1 Axes>"
            ]
          },
          "metadata": {},
          "output_type": "display_data"
        }
      ],
      "source": [
        "y_test_predictions_gsdtc = grid_search_dtree.predict(X_test_norm)\n",
        "\n",
        "sns.heatmap(metrics.confusion_matrix(y_test,y_test_predictions_gsdtc),annot=True,fmt='d',cbar=False,cmap='magma')\n",
        "plt.xlabel(\"Predicted Label\")\n",
        "plt.ylabel(\"Actual Label\");\n",
        "\n",
        "#classification report for Decision Tree Classifier applying Grid search cv\n",
        "print(metrics.classification_report(y_test, y_test_predictions_gsdtc),'\\n')"
      ]
    },
    {
      "cell_type": "markdown",
      "metadata": {
        "id": "079EcAs_q6I0"
      },
      "source": [
        "INSIGHT:\n",
        "For Decision Tree Classifier\n",
        "1) Initially, the accuracy of model is good which is approximately 79% for both train and test data. However, this seems to drastically reduce after applying grid search cv. Certainly, tuning has not helped.\n",
        "2) Recall has improved after applying Grid search CV, which is a good sign as model can now predict the customers churning more accurately. In this case it has increased from 38 to 58%"
      ]
    },
    {
      "cell_type": "markdown",
      "metadata": {
        "id": "1ZUDJXqCwQBk"
      },
      "source": [
        "3.c Train a model using Random forest and check the performance of the model on train and test data"
      ]
    },
    {
      "cell_type": "code",
      "execution_count": null,
      "metadata": {
        "colab": {
          "base_uri": "https://localhost:8080/"
        },
        "id": "knHsbVuswP29",
        "outputId": "ae8d19dc-008c-4b81-b09c-0cd03125ddce"
      },
      "outputs": [
        {
          "name": "stdout",
          "output_type": "stream",
          "text": [
            "Random Forest Classifier\n",
            "Accuracy of training data: 0.7859555555555555\n",
            "accuracy of testing data: 0.7839374555792467\n",
            "Precision score for Test data: 0.7123287671232876\n",
            "Precision score for Train data: 0.7430894308943089\n",
            "Recall score for Test data: 0.28415300546448086\n",
            "Recall score for Test data: 0.3040585495675316\n",
            "Classification report for test\n",
            "              precision    recall  f1-score   support\n",
            "\n",
            "           0       0.79      0.96      0.87      1041\n",
            "           1       0.71      0.28      0.41       366\n",
            "\n",
            "    accuracy                           0.78      1407\n",
            "   macro avg       0.75      0.62      0.64      1407\n",
            "weighted avg       0.77      0.78      0.75      1407\n",
            "\n",
            "Classification report for train\n",
            "              precision    recall  f1-score   support\n",
            "\n",
            "           0       0.79      0.96      0.87      4122\n",
            "           1       0.74      0.30      0.43      1503\n",
            "\n",
            "    accuracy                           0.79      5625\n",
            "   macro avg       0.77      0.63      0.65      5625\n",
            "weighted avg       0.78      0.79      0.75      5625\n",
            "\n"
          ]
        }
      ],
      "source": [
        "random_forest_model = RandomForestClassifier(criterion ='gini', random_state=0, max_depth=3)\n",
        "\n",
        "random_forest_model.fit(X_train_norm, y_train)\n",
        "\n",
        "y_train_predict = random_forest_model.predict(X_train_norm)\n",
        "y_test_predict_rfc = random_forest_model.predict(X_test_norm)\n",
        "\n",
        "print(\"Random Forest Classifier\")\n",
        "\n",
        "train_accuracy_rfc = random_forest_model.score(X_train_norm,y_train)\n",
        "print(\"Accuracy of training data:\",train_accuracy_rfc)\n",
        "\n",
        "test_accuracy_rfc = random_forest_model.score(X_test_norm,y_test)\n",
        "print(\"accuracy of testing data:\",test_accuracy_rfc)\n",
        "\n",
        "print(\"Precision score for Test data:\", metrics.precision_score(y_test,y_test_predict_rfc))\n",
        "print(\"Precision score for Train data:\", metrics.precision_score(y_train,y_train_predict))\n",
        "\n",
        "print(\"Recall score for Test data:\", metrics.recall_score(y_test,y_test_predict_rfc))\n",
        "print(\"Recall score for Test data:\", metrics.recall_score(y_train,y_train_predict))\n",
        "\n",
        "print(\"Classification report for test\")\n",
        "print(metrics.classification_report(y_test, y_test_predict_rfc,zero_division=0))\n",
        "\n",
        "print(\"Classification report for train\")\n",
        "print(metrics.classification_report(y_train, y_train_predict,zero_division=0))"
      ]
    },
    {
      "cell_type": "code",
      "execution_count": null,
      "metadata": {
        "colab": {
          "base_uri": "https://localhost:8080/",
          "height": 504
        },
        "id": "9s6uklDW00SV",
        "outputId": "355a4c18-5fe1-46b5-ffc2-51c26bbe2e02"
      },
      "outputs": [
        {
          "data": {
            "text/plain": [
              "[Text(0, 0.5, 'No'), Text(0, 1.5, 'Yes')]"
            ]
          },
          "execution_count": 35,
          "metadata": {},
          "output_type": "execute_result"
        },
        {
          "data": {
            "image/png": "[encoded data removed]",
            "text/plain": [
              "<Figure size 700x500 with 2 Axes>"
            ]
          },
          "metadata": {},
          "output_type": "display_data"
        }
      ],
      "source": [
        "cm_rfc=metrics.confusion_matrix(y_test, y_test_predict_rfc)\n",
        "df_cm_rfc = pd.DataFrame(cm_rfc)\n",
        "\n",
        "plt.figure(figsize = (7,5))\n",
        "plt.title(\"Model used: Random Forest Classifier\")\n",
        "ax1=sns.heatmap(df_cm_rfc, annot=True, fmt='g')\n",
        "ax1.set_xlabel('Predicted Value');\n",
        "ax1.set_ylabel('Actual Value');\n",
        "ax1.xaxis.set_ticklabels(['No', 'Yes'])\n",
        "ax1.yaxis.set_ticklabels(['No', 'Yes'])"
      ]
    },
    {
      "cell_type": "markdown",
      "metadata": {
        "id": "hssMuZCRmRNc"
      },
      "source": [
        "3.d Use grid search and improve the performance of the Random tree model , check the performance of the model on train and test data , provide the differences observed in performance in Q3.c and Q3.d"
      ]
    },
    {
      "cell_type": "code",
      "execution_count": null,
      "metadata": {
        "colab": {
          "base_uri": "https://localhost:8080/",
          "height": 144
        },
        "id": "qCsQp9bm_pQW",
        "outputId": "f4d83220-33fd-45f9-fba3-6ddeafa5ded0"
      },
      "outputs": [
        {
          "name": "stdout",
          "output_type": "stream",
          "text": [
            "{'n_estimators': 150, 'min_samples_leaf': 8, 'max_samples': 0.6000000000000001, 'max_features': 0.30000000000000004}\n",
            "accuracy : 0.5222990033222591\n"
          ]
        },
        {
          "data": {
            "text/html": [
              "<style>#sk-container-id-2 {color: black;background-color: white;}#sk-container-id-2 pre{padding: 0;}#sk-container-id-2 div.sk-toggleable {background-color: white;}#sk-container-id-2 label.sk-toggleable__label {cursor: pointer;display: block;width: 100%;margin-bottom: 0;padding: 0.3em;box-sizing: border-box;text-align: center;}#sk-container-id-2 label.sk-toggleable__label-arrow:before {content: \"▸\";float: left;margin-right: 0.25em;color: #696969;}#sk-container-id-2 label.sk-toggleable__label-arrow:hover:before {color: black;}#sk-container-id-2 div.sk-estimator:hover label.sk-toggleable__label-arrow:before {color: black;}#sk-container-id-2 div.sk-toggleable__content {max-height: 0;max-width: 0;overflow: hidden;text-align: left;background-color: #f0f8ff;}#sk-container-id-2 div.sk-toggleable__content pre {margin: 0.2em;color: black;border-radius: 0.25em;background-color: #f0f8ff;}#sk-container-id-2 input.sk-toggleable__control:checked~div.sk-toggleable__content {max-height: 200px;max-width: 100%;overflow: auto;}#sk-container-id-2 input.sk-toggleable__control:checked~label.sk-toggleable__label-arrow:before {content: \"▾\";}#sk-container-id-2 div.sk-estimator input.sk-toggleable__control:checked~label.sk-toggleable__label {background-color: #d4ebff;}#sk-container-id-2 div.sk-label input.sk-toggleable__control:checked~label.sk-toggleable__label {background-color: #d4ebff;}#sk-container-id-2 input.sk-hidden--visually {border: 0;clip: rect(1px 1px 1px 1px);clip: rect(1px, 1px, 1px, 1px);height: 1px;margin: -1px;overflow: hidden;padding: 0;position: absolute;width: 1px;}#sk-container-id-2 div.sk-estimator {font-family: monospace;background-color: #f0f8ff;border: 1px dotted black;border-radius: 0.25em;box-sizing: border-box;margin-bottom: 0.5em;}#sk-container-id-2 div.sk-estimator:hover {background-color: #d4ebff;}#sk-container-id-2 div.sk-parallel-item::after {content: \"\";width: 100%;border-bottom: 1px solid gray;flex-grow: 1;}#sk-container-id-2 div.sk-label:hover label.sk-toggleable__label {background-color: #d4ebff;}#sk-container-id-2 div.sk-serial::before {content: \"\";position: absolute;border-left: 1px solid gray;box-sizing: border-box;top: 0;bottom: 0;left: 50%;z-index: 0;}#sk-container-id-2 div.sk-serial {display: flex;flex-direction: column;align-items: center;background-color: white;padding-right: 0.2em;padding-left: 0.2em;position: relative;}#sk-container-id-2 div.sk-item {position: relative;z-index: 1;}#sk-container-id-2 div.sk-parallel {display: flex;align-items: stretch;justify-content: center;background-color: white;position: relative;}#sk-container-id-2 div.sk-item::before, #sk-container-id-2 div.sk-parallel-item::before {content: \"\";position: absolute;border-left: 1px solid gray;box-sizing: border-box;top: 0;bottom: 0;left: 50%;z-index: -1;}#sk-container-id-2 div.sk-parallel-item {display: flex;flex-direction: column;z-index: 1;position: relative;background-color: white;}#sk-container-id-2 div.sk-parallel-item:first-child::after {align-self: flex-end;width: 50%;}#sk-container-id-2 div.sk-parallel-item:last-child::after {align-self: flex-start;width: 50%;}#sk-container-id-2 div.sk-parallel-item:only-child::after {width: 0;}#sk-container-id-2 div.sk-dashed-wrapped {border: 1px dashed gray;margin: 0 0.4em 0.5em 0.4em;box-sizing: border-box;padding-bottom: 0.4em;background-color: white;}#sk-container-id-2 div.sk-label label {font-family: monospace;font-weight: bold;display: inline-block;line-height: 1.2em;}#sk-container-id-2 div.sk-label-container {text-align: center;}#sk-container-id-2 div.sk-container {/* jupyter's `normalize.less` sets `[hidden] { display: none; }` but bootstrap.min.css set `[hidden] { display: none !important; }` so we also need the `!important` here to be able to override the default hidden behavior on the sphinx rendered scikit-learn.org. See: https://github.com/scikit-learn/scikit-learn/issues/21755 */display: inline-block !important;position: relative;}#sk-container-id-2 div.sk-text-repr-fallback {display: none;}</style><div id=\"sk-container-id-2\" class=\"sk-top-container\"><div class=\"sk-text-repr-fallback\"><pre>RandomForestClassifier(max_features=0.30000000000000004,\n",
              "                       max_samples=0.6000000000000001, min_samples_leaf=8,\n",
              "                       n_estimators=150, random_state=1)</pre><b>In a Jupyter environment, please rerun this cell to show the HTML representation or trust the notebook. <br />On GitHub, the HTML representation is unable to render, please try loading this page with nbviewer.org.</b></div><div class=\"sk-container\" hidden><div class=\"sk-item\"><div class=\"sk-estimator sk-toggleable\"><input class=\"sk-toggleable__control sk-hidden--visually\" id=\"sk-estimator-id-2\" type=\"checkbox\" checked><label for=\"sk-estimator-id-2\" class=\"sk-toggleable__label sk-toggleable__label-arrow\">RandomForestClassifier</label><div class=\"sk-toggleable__content\"><pre>RandomForestClassifier(max_features=0.30000000000000004,\n",
              "                       max_samples=0.6000000000000001, min_samples_leaf=8,\n",
              "                       n_estimators=150, random_state=1)</pre></div></div></div></div></div>"
            ],
            "text/plain": [
              "RandomForestClassifier(max_features=0.30000000000000004,\n",
              "                       max_samples=0.6000000000000001, min_samples_leaf=8,\n",
              "                       n_estimators=150, random_state=1)"
            ]
          },
          "execution_count": 42,
          "metadata": {},
          "output_type": "execute_result"
        }
      ],
      "source": [
        "rf_estimator_tuned = RandomForestClassifier(random_state=1)\n",
        "\n",
        "grid_parameters_rfc = {'n_estimators': [50, 150, 200],\n",
        "                       'min_samples_leaf': np.arange(5,10),\n",
        "                       'max_features': np.arange(0.2,0.7,0.1),\n",
        "                       'max_samples': np.arange(0.3,0.7,0.1),\n",
        "                       }\n",
        "\n",
        "acc_scorer=metrics.make_scorer(metrics.recall_score)\n",
        "\n",
        "random_search_rfc = RandomizedSearchCV(rf_estimator_tuned, grid_parameters_rfc, scoring=acc_scorer, cv=5)\n",
        "\n",
        "random_search_rfc= random_search_rfc.fit(X_train_norm, y_train)\n",
        "\n",
        "print(random_search_rfc.best_params_)\n",
        "\n",
        "best_model_rfc = random_search_rfc.best_estimator_\n",
        "\n",
        "print(\"accuracy :\",random_search_rfc.best_score_)\n",
        "\n",
        "best_model_rfc.fit(X_train_norm, y_train)"
      ]
    },
    {
      "cell_type": "code",
      "execution_count": null,
      "metadata": {
        "colab": {
          "base_uri": "https://localhost:8080/",
          "height": 623
        },
        "id": "biecoeXvl7Yj",
        "outputId": "8adf7b2a-7e2b-4acf-d10c-d50ba50d279e"
      },
      "outputs": [
        {
          "name": "stdout",
          "output_type": "stream",
          "text": [
            "              precision    recall  f1-score   support\n",
            "\n",
            "           0       0.84      0.91      0.87      1041\n",
            "           1       0.66      0.49      0.56       366\n",
            "\n",
            "    accuracy                           0.80      1407\n",
            "   macro avg       0.75      0.70      0.72      1407\n",
            "weighted avg       0.79      0.80      0.79      1407\n",
            " \n",
            "\n"
          ]
        },
        {
          "data": {
            "image/png": "[encoded data removed]",
            "text/plain": [
              "<Figure size 640x480 with 1 Axes>"
            ]
          },
          "metadata": {},
          "output_type": "display_data"
        }
      ],
      "source": [
        "y_test_predictions_gsrfc = random_search_rfc.predict(X_test_norm)\n",
        "\n",
        "sns.heatmap(metrics.confusion_matrix(y_test,y_test_predictions_gsrfc),annot=True,fmt='d',cbar=False,cmap='magma')\n",
        "plt.xlabel(\"Predicted Label\")\n",
        "plt.ylabel(\"Actual Label\");\n",
        "\n",
        "#classification report for Random Forest Classifier applying random search cv\n",
        "print(metrics.classification_report(y_test, y_test_predictions_gsrfc),'\\n')"
      ]
    },
    {
      "cell_type": "markdown",
      "metadata": {
        "id": "NDF1otf5si1n"
      },
      "source": [
        "INSIGHT:\n",
        "For Random Forest Classifier\n",
        "1) Initially, the accuracy of model is good which is approximately 79% for both train and test data. However, this seems to drastically reduce after applying random search cv to 52%. Certainly, tuning has not helped.\n",
        "2) Recall has improved after applying Random search CV, which is a good sign as model can now predict the customers churning more accurately. In this case it has increased from 28 to 49%"
      ]
    },
    {
      "cell_type": "markdown",
      "metadata": {
        "id": "PEnGIa7IjayA"
      },
      "source": [
        "3.e Train a model using Adaboost and check the performance of the model on train and test data"
      ]
    },
    {
      "cell_type": "code",
      "execution_count": null,
      "metadata": {
        "colab": {
          "base_uri": "https://localhost:8080/"
        },
        "id": "sXMqrDR-jbwA",
        "outputId": "9dac8187-b81c-4268-e1d9-00e6af2eb396"
      },
      "outputs": [
        {
          "name": "stdout",
          "output_type": "stream",
          "text": [
            "AdaBoost Classifier\n",
            "accuracy of training data: 0.7984\n",
            "accuracy of testing data: 0.7839374555792467\n",
            "Precision score for Test data: 0.6973180076628352\n",
            "Precision score for Train data: 0.6700460829493088\n",
            "Recall score for Test data: 0.4972677595628415\n",
            "Recall score for Test data: 0.48369926813040587\n",
            "Classification report for test\n",
            "              precision    recall  f1-score   support\n",
            "\n",
            "           0       0.84      0.92      0.88      1041\n",
            "           1       0.70      0.50      0.58       366\n",
            "\n",
            "    accuracy                           0.81      1407\n",
            "   macro avg       0.77      0.71      0.73      1407\n",
            "weighted avg       0.80      0.81      0.80      1407\n",
            "\n",
            "Classification report for train\n",
            "              precision    recall  f1-score   support\n",
            "\n",
            "           0       0.83      0.91      0.87      4122\n",
            "           1       0.67      0.48      0.56      1503\n",
            "\n",
            "    accuracy                           0.80      5625\n",
            "   macro avg       0.75      0.70      0.72      5625\n",
            "weighted avg       0.79      0.80      0.79      5625\n",
            "\n"
          ]
        }
      ],
      "source": [
        "adaboost_model = AdaBoostClassifier(n_estimators=20, learning_rate=0.3)\n",
        "adaboost_model.fit(X_train_norm, y_train)\n",
        "\n",
        "y_train_predict = adaboost_model.predict(X_train_norm)\n",
        "y_test_predict_abc = adaboost_model.predict(X_test_norm)\n",
        "\n",
        "print(\"AdaBoost Classifier\")\n",
        "\n",
        "train_accuracy_abc = adaboost_model.score(X_train_norm,y_train)\n",
        "print(\"accuracy of training data:\",train_accuracy_abc)\n",
        "\n",
        "test_accuracy_abc = random_forest_model.score(X_test_norm,y_test)\n",
        "print(\"accuracy of testing data:\",test_accuracy_abc)\n",
        "\n",
        "print(\"Precision score for Test data:\", metrics.precision_score(y_test,y_test_predict_abc))\n",
        "print(\"Precision score for Train data:\", metrics.precision_score(y_train,y_train_predict))\n",
        "\n",
        "print(\"Recall score for Test data:\", metrics.recall_score(y_test,y_test_predict_abc))\n",
        "print(\"Recall score for Test data:\", metrics.recall_score(y_train,y_train_predict))\n",
        "\n",
        "print(\"Classification report for test\")\n",
        "print(metrics.classification_report(y_test, y_test_predict_abc))\n",
        "\n",
        "print(\"Classification report for train\")\n",
        "print(metrics.classification_report(y_train, y_train_predict))\n"
      ]
    },
    {
      "cell_type": "code",
      "execution_count": null,
      "metadata": {
        "colab": {
          "base_uri": "https://localhost:8080/",
          "height": 504
        },
        "id": "MFBwtKNN1-ry",
        "outputId": "5bb40b66-1972-4fc3-d167-0ba5a487cc0d"
      },
      "outputs": [
        {
          "data": {
            "text/plain": [
              "[Text(0, 0.5, 'No'), Text(0, 1.5, 'Yes')]"
            ]
          },
          "execution_count": 56,
          "metadata": {},
          "output_type": "execute_result"
        },
        {
          "data": {
            "image/png": "[encoded data removed]",
            "text/plain": [
              "<Figure size 700x500 with 2 Axes>"
            ]
          },
          "metadata": {},
          "output_type": "display_data"
        }
      ],
      "source": [
        "cm_abc=metrics.confusion_matrix(y_test, y_test_predict_abc)\n",
        "df_cm_abc = pd.DataFrame(cm_abc)\n",
        "\n",
        "plt.figure(figsize = (7,5))\n",
        "plt.title(\"Model used: AdaBoost Classifier\")\n",
        "ax1=sns.heatmap(df_cm_abc, annot=True, fmt='g')\n",
        "ax1.set_xlabel('Predicted Value');\n",
        "ax1.set_ylabel('Actual Value');\n",
        "ax1.xaxis.set_ticklabels(['No', 'Yes'])\n",
        "ax1.yaxis.set_ticklabels(['No', 'Yes'])"
      ]
    },
    {
      "cell_type": "markdown",
      "metadata": {
        "id": "15llEBXwmUnF"
      },
      "source": [
        "3.f Use grid search and improve the performance of the Adaboost model , check the performance of the model on train and test data , provide the differences observed in performance in Q3.e and Q3.f"
      ]
    },
    {
      "cell_type": "code",
      "execution_count": null,
      "metadata": {
        "colab": {
          "base_uri": "https://localhost:8080/",
          "height": 240
        },
        "id": "goEBiW20d-nm",
        "outputId": "770976c9-d02d-49d4-fe2c-bb40f26aaa16"
      },
      "outputs": [
        {
          "name": "stderr",
          "output_type": "stream",
          "text": [
            "/usr/local/lib/python3.10/dist-packages/sklearn/ensemble/_base.py:166: FutureWarning: `base_estimator` was renamed to `estimator` in version 1.2 and will be removed in 1.4.\n",
            "  warnings.warn(\n"
          ]
        },
        {
          "name": "stdout",
          "output_type": "stream",
          "text": [
            "{'n_estimators': 500, 'learning_rate': 0.01}\n",
            "accuracy : 0.7479111111111111\n"
          ]
        },
        {
          "name": "stderr",
          "output_type": "stream",
          "text": [
            "/usr/local/lib/python3.10/dist-packages/sklearn/ensemble/_base.py:166: FutureWarning: `base_estimator` was renamed to `estimator` in version 1.2 and will be removed in 1.4.\n",
            "  warnings.warn(\n"
          ]
        },
        {
          "data": {
            "text/html": [
              "<style>#sk-container-id-4 {color: black;background-color: white;}#sk-container-id-4 pre{padding: 0;}#sk-container-id-4 div.sk-toggleable {background-color: white;}#sk-container-id-4 label.sk-toggleable__label {cursor: pointer;display: block;width: 100%;margin-bottom: 0;padding: 0.3em;box-sizing: border-box;text-align: center;}#sk-container-id-4 label.sk-toggleable__label-arrow:before {content: \"▸\";float: left;margin-right: 0.25em;color: #696969;}#sk-container-id-4 label.sk-toggleable__label-arrow:hover:before {color: black;}#sk-container-id-4 div.sk-estimator:hover label.sk-toggleable__label-arrow:before {color: black;}#sk-container-id-4 div.sk-toggleable__content {max-height: 0;max-width: 0;overflow: hidden;text-align: left;background-color: #f0f8ff;}#sk-container-id-4 div.sk-toggleable__content pre {margin: 0.2em;color: black;border-radius: 0.25em;background-color: #f0f8ff;}#sk-container-id-4 input.sk-toggleable__control:checked~div.sk-toggleable__content {max-height: 200px;max-width: 100%;overflow: auto;}#sk-container-id-4 input.sk-toggleable__control:checked~label.sk-toggleable__label-arrow:before {content: \"▾\";}#sk-container-id-4 div.sk-estimator input.sk-toggleable__control:checked~label.sk-toggleable__label {background-color: #d4ebff;}#sk-container-id-4 div.sk-label input.sk-toggleable__control:checked~label.sk-toggleable__label {background-color: #d4ebff;}#sk-container-id-4 input.sk-hidden--visually {border: 0;clip: rect(1px 1px 1px 1px);clip: rect(1px, 1px, 1px, 1px);height: 1px;margin: -1px;overflow: hidden;padding: 0;position: absolute;width: 1px;}#sk-container-id-4 div.sk-estimator {font-family: monospace;background-color: #f0f8ff;border: 1px dotted black;border-radius: 0.25em;box-sizing: border-box;margin-bottom: 0.5em;}#sk-container-id-4 div.sk-estimator:hover {background-color: #d4ebff;}#sk-container-id-4 div.sk-parallel-item::after {content: \"\";width: 100%;border-bottom: 1px solid gray;flex-grow: 1;}#sk-container-id-4 div.sk-label:hover label.sk-toggleable__label {background-color: #d4ebff;}#sk-container-id-4 div.sk-serial::before {content: \"\";position: absolute;border-left: 1px solid gray;box-sizing: border-box;top: 0;bottom: 0;left: 50%;z-index: 0;}#sk-container-id-4 div.sk-serial {display: flex;flex-direction: column;align-items: center;background-color: white;padding-right: 0.2em;padding-left: 0.2em;position: relative;}#sk-container-id-4 div.sk-item {position: relative;z-index: 1;}#sk-container-id-4 div.sk-parallel {display: flex;align-items: stretch;justify-content: center;background-color: white;position: relative;}#sk-container-id-4 div.sk-item::before, #sk-container-id-4 div.sk-parallel-item::before {content: \"\";position: absolute;border-left: 1px solid gray;box-sizing: border-box;top: 0;bottom: 0;left: 50%;z-index: -1;}#sk-container-id-4 div.sk-parallel-item {display: flex;flex-direction: column;z-index: 1;position: relative;background-color: white;}#sk-container-id-4 div.sk-parallel-item:first-child::after {align-self: flex-end;width: 50%;}#sk-container-id-4 div.sk-parallel-item:last-child::after {align-self: flex-start;width: 50%;}#sk-container-id-4 div.sk-parallel-item:only-child::after {width: 0;}#sk-container-id-4 div.sk-dashed-wrapped {border: 1px dashed gray;margin: 0 0.4em 0.5em 0.4em;box-sizing: border-box;padding-bottom: 0.4em;background-color: white;}#sk-container-id-4 div.sk-label label {font-family: monospace;font-weight: bold;display: inline-block;line-height: 1.2em;}#sk-container-id-4 div.sk-label-container {text-align: center;}#sk-container-id-4 div.sk-container {/* jupyter's `normalize.less` sets `[hidden] { display: none; }` but bootstrap.min.css set `[hidden] { display: none !important; }` so we also need the `!important` here to be able to override the default hidden behavior on the sphinx rendered scikit-learn.org. See: https://github.com/scikit-learn/scikit-learn/issues/21755 */display: inline-block !important;position: relative;}#sk-container-id-4 div.sk-text-repr-fallback {display: none;}</style><div id=\"sk-container-id-4\" class=\"sk-top-container\"><div class=\"sk-text-repr-fallback\"><pre>AdaBoostClassifier(base_estimator=DecisionTreeClassifier(), learning_rate=0.01,\n",
              "                   n_estimators=500)</pre><b>In a Jupyter environment, please rerun this cell to show the HTML representation or trust the notebook. <br />On GitHub, the HTML representation is unable to render, please try loading this page with nbviewer.org.</b></div><div class=\"sk-container\" hidden><div class=\"sk-item sk-dashed-wrapped\"><div class=\"sk-label-container\"><div class=\"sk-label sk-toggleable\"><input class=\"sk-toggleable__control sk-hidden--visually\" id=\"sk-estimator-id-6\" type=\"checkbox\" ><label for=\"sk-estimator-id-6\" class=\"sk-toggleable__label sk-toggleable__label-arrow\">AdaBoostClassifier</label><div class=\"sk-toggleable__content\"><pre>AdaBoostClassifier(base_estimator=DecisionTreeClassifier(), learning_rate=0.01,\n",
              "                   n_estimators=500)</pre></div></div></div><div class=\"sk-parallel\"><div class=\"sk-parallel-item\"><div class=\"sk-item\"><div class=\"sk-label-container\"><div class=\"sk-label sk-toggleable\"><input class=\"sk-toggleable__control sk-hidden--visually\" id=\"sk-estimator-id-7\" type=\"checkbox\" ><label for=\"sk-estimator-id-7\" class=\"sk-toggleable__label sk-toggleable__label-arrow\">base_estimator: DecisionTreeClassifier</label><div class=\"sk-toggleable__content\"><pre>DecisionTreeClassifier()</pre></div></div></div><div class=\"sk-serial\"><div class=\"sk-item\"><div class=\"sk-estimator sk-toggleable\"><input class=\"sk-toggleable__control sk-hidden--visually\" id=\"sk-estimator-id-8\" type=\"checkbox\" ><label for=\"sk-estimator-id-8\" class=\"sk-toggleable__label sk-toggleable__label-arrow\">DecisionTreeClassifier</label><div class=\"sk-toggleable__content\"><pre>DecisionTreeClassifier()</pre></div></div></div></div></div></div></div></div></div></div>"
            ],
            "text/plain": [
              "AdaBoostClassifier(base_estimator=DecisionTreeClassifier(), learning_rate=0.01,\n",
              "                   n_estimators=500)"
            ]
          },
          "execution_count": 78,
          "metadata": {},
          "output_type": "execute_result"
        }
      ],
      "source": [
        "abc_estimator_tuned = AdaBoostClassifier(base_estimator = DecisionTreeClassifier())\n",
        "\n",
        "grid_parameters_abc = {'n_estimators': [10, 50, 100, 500],\n",
        "                       'learning_rate': [0.0001,0.001,0.01,0.1,1.0]\n",
        "                       }\n",
        "\n",
        "acc_scorer=metrics.make_scorer(metrics.recall_score)\n",
        "\n",
        "grid_search_abc = RandomizedSearchCV(abc_estimator_tuned, grid_parameters_abc, n_jobs=-1, cv=5, scoring='accuracy')\n",
        "\n",
        "grid_search_abc = grid_search_abc.fit(X_train_norm, y_train)\n",
        "\n",
        "print(grid_search_abc.best_params_)\n",
        "\n",
        "best_model_abc = grid_search_abc.best_estimator_\n",
        "\n",
        "print(\"accuracy :\",grid_search_abc.best_score_)\n",
        "\n",
        "best_model_abc.fit(X_train_norm, y_train)"
      ]
    },
    {
      "cell_type": "code",
      "execution_count": null,
      "metadata": {
        "colab": {
          "base_uri": "https://localhost:8080/",
          "height": 623
        },
        "id": "1F1zChTKlgnM",
        "outputId": "678d52ca-7577-4090-f3fc-04d37b353a60"
      },
      "outputs": [
        {
          "name": "stdout",
          "output_type": "stream",
          "text": [
            "              precision    recall  f1-score   support\n",
            "\n",
            "           0       0.84      0.91      0.87      1041\n",
            "           1       0.65      0.49      0.56       366\n",
            "\n",
            "    accuracy                           0.80      1407\n",
            "   macro avg       0.74      0.70      0.72      1407\n",
            "weighted avg       0.79      0.80      0.79      1407\n",
            " \n",
            "\n"
          ]
        },
        {
          "data": {
            "image/png": "[encoded data removed]",
            "text/plain": [
              "<Figure size 640x480 with 1 Axes>"
            ]
          },
          "metadata": {},
          "output_type": "display_data"
        }
      ],
      "source": [
        "y_test_predictions_gsabc = grid_search_abc.predict(X_test_norm)\n",
        "\n",
        "sns.heatmap(metrics.confusion_matrix(y_test,y_test_predictions_gsabc),annot=True,fmt='d',cbar=False,cmap='magma')\n",
        "plt.xlabel(\"Predicted Label\")\n",
        "plt.ylabel(\"Actual Label\");\n",
        "\n",
        "#classification report for Ada Boost Classifier applying random search cv\n",
        "print(metrics.classification_report(y_test, y_test_predictions_gsabc),'\\n')"
      ]
    },
    {
      "cell_type": "markdown",
      "metadata": {
        "id": "QD2qm-qPtIve"
      },
      "source": [
        "INSIGHT:\n",
        "For Ada Boost Classifier\n",
        "1) Initially, the accuracy of model is good which is approximately 79% for both train and test data. This has remianed same after applying random search cv at 80%.\n",
        "2) Recall has remained at same level of 50% after applying Random search CV\n",
        "3) Both accuracy and recall have remained stagnant and tuning has certainly not been contributive"
      ]
    },
    {
      "cell_type": "markdown",
      "metadata": {
        "id": "QfGtxSwhq2zi"
      },
      "source": [
        "3.g Train a model using GradientBoost and check the performance of the model on train and test data"
      ]
    },
    {
      "cell_type": "code",
      "execution_count": null,
      "metadata": {
        "colab": {
          "base_uri": "https://localhost:8080/"
        },
        "id": "LOi4UMHGq3yI",
        "outputId": "4b985b8d-f30a-4cb0-826a-af315f8fdc4c"
      },
      "outputs": [
        {
          "name": "stdout",
          "output_type": "stream",
          "text": [
            "Gradient Boosting Classifier\n",
            "accuracy of training data: 0.8483555555555555\n",
            "accuracy of testing data: 0.7981520966595593\n",
            "Precision score for Test data: 0.6423611111111112\n",
            "Precision score for Train data: 0.7699335548172758\n",
            "Recall score for Test data: 0.505464480874317\n",
            "Recall score for Test data: 0.6167664670658682\n",
            "Classification report for test data\n",
            "              precision    recall  f1-score   support\n",
            "\n",
            "           0       0.84      0.90      0.87      1041\n",
            "           1       0.64      0.51      0.57       366\n",
            "\n",
            "    accuracy                           0.80      1407\n",
            "   macro avg       0.74      0.70      0.72      1407\n",
            "weighted avg       0.79      0.80      0.79      1407\n",
            "\n",
            "Classification report for train data\n",
            "              precision    recall  f1-score   support\n",
            "\n",
            "           0       0.87      0.93      0.90      4122\n",
            "           1       0.77      0.62      0.68      1503\n",
            "\n",
            "    accuracy                           0.85      5625\n",
            "   macro avg       0.82      0.77      0.79      5625\n",
            "weighted avg       0.84      0.85      0.84      5625\n",
            "\n"
          ]
        }
      ],
      "source": [
        "gbc_model = GradientBoostingClassifier(n_estimators=50, learning_rate=0.09, max_depth=5)\n",
        "gbc_model.fit(X_train_norm, y_train)\n",
        "\n",
        "y_train_predict = gbc_model.predict(X_train_norm)\n",
        "y_test_predict_gbc = gbc_model.predict(X_test_norm)\n",
        "\n",
        "print(\"Gradient Boosting Classifier\")\n",
        "\n",
        "train_accuracy_gbc = gbc_model.score(X_train_norm,y_train)\n",
        "print(\"accuracy of training data:\",train_accuracy_gbc)\n",
        "\n",
        "test_accuracy_gbc = gbc_model.score(X_test_norm,y_test)\n",
        "print(\"accuracy of testing data:\",test_accuracy_gbc)\n",
        "\n",
        "print(\"Precision score for Test data:\", metrics.precision_score(y_test,y_test_predict_gbc))\n",
        "print(\"Precision score for Train data:\", metrics.precision_score(y_train,y_train_predict))\n",
        "\n",
        "print(\"Recall score for Test data:\", metrics.recall_score(y_test,y_test_predict_gbc))\n",
        "print(\"Recall score for Test data:\", metrics.recall_score(y_train,y_train_predict))\n",
        "\n",
        "print(\"Classification report for test data\")\n",
        "print(metrics.classification_report(y_test, y_test_predict_gbc))\n",
        "\n",
        "print(\"Classification report for train data\")\n",
        "print(metrics.classification_report(y_train, y_train_predict))"
      ]
    },
    {
      "cell_type": "code",
      "execution_count": null,
      "metadata": {
        "colab": {
          "base_uri": "https://localhost:8080/",
          "height": 504
        },
        "id": "j5iL106e2Xz7",
        "outputId": "7ce701e3-1a8e-4fd6-ac6b-aa643576c766"
      },
      "outputs": [
        {
          "data": {
            "text/plain": [
              "[Text(0, 0.5, 'No'), Text(0, 1.5, 'Yes')]"
            ]
          },
          "execution_count": 49,
          "metadata": {},
          "output_type": "execute_result"
        },
        {
          "data": {
            "image/png": "[encoded data removed]",
            "text/plain": [
              "<Figure size 700x500 with 2 Axes>"
            ]
          },
          "metadata": {},
          "output_type": "display_data"
        }
      ],
      "source": [
        "cm_gbc=metrics.confusion_matrix(y_test, y_test_predict_gbc)\n",
        "df_cm_gbc = pd.DataFrame(cm_gbc)\n",
        "\n",
        "plt.figure(figsize = (7,5))\n",
        "plt.title(\"Model used: Gradient Boosting Classifier\")\n",
        "ax1=sns.heatmap(df_cm_gbc, annot=True, fmt='g')\n",
        "ax1.set_xlabel('Predicted Value');\n",
        "ax1.set_ylabel('Actual Value');\n",
        "ax1.xaxis.set_ticklabels(['No', 'Yes'])\n",
        "ax1.yaxis.set_ticklabels(['No', 'Yes'])"
      ]
    },
    {
      "cell_type": "markdown",
      "metadata": {
        "id": "oL8ZE4kbmaiY"
      },
      "source": [
        "3.h Use grid search and improve the performance of the GradientBoost model , check the performance of the model on train and test data , provide the differences observed in performance in Q3.g and Q3.h"
      ]
    },
    {
      "cell_type": "code",
      "execution_count": null,
      "metadata": {
        "colab": {
          "base_uri": "https://localhost:8080/"
        },
        "id": "j14hKNMBwakI",
        "outputId": "2a7efd10-609b-41ad-f038-7b0e1cb2504c"
      },
      "outputs": [
        {
          "name": "stdout",
          "output_type": "stream",
          "text": [
            "{'n_estimators': 50, 'min_samples_split': 5, 'max_features': 'sqrt', 'max_depth': 4}\n",
            "accuracy : 0.5349590254706534\n"
          ]
        }
      ],
      "source": [
        "gbc_model_tuned = GradientBoostingClassifier()\n",
        "\n",
        "grid_parameters = {'min_samples_split': [2, 3, 4, 5],\n",
        "                   'max_depth': [3, 4, 5, 6],\n",
        "                   'max_features': [\"log2\",\"sqrt\"],\n",
        "                   'n_estimators': [10, 20, 30, 40, 50,60]}\n",
        "\n",
        "acc_scorer=metrics.make_scorer(metrics.recall_score)\n",
        "\n",
        "grid_search = RandomizedSearchCV(gbc_model_tuned, grid_parameters, scoring=acc_scorer, cv=5)\n",
        "\n",
        "grid_search.fit(X_train_norm, y_train)\n",
        "\n",
        "print(grid_search.best_params_)\n",
        "\n",
        "best_model = grid_search.best_estimator_\n",
        "\n",
        "print(\"accuracy :\",grid_search.best_score_)"
      ]
    },
    {
      "cell_type": "code",
      "execution_count": null,
      "metadata": {
        "colab": {
          "base_uri": "https://localhost:8080/",
          "height": 623
        },
        "id": "DmrM6V-q5-Xo",
        "outputId": "57cb1074-2c3b-4b0a-ee36-b60e7eefc9fc"
      },
      "outputs": [
        {
          "name": "stdout",
          "output_type": "stream",
          "text": [
            "              precision    recall  f1-score   support\n",
            "\n",
            "           0       0.84      0.91      0.87      1041\n",
            "           1       0.66      0.50      0.57       366\n",
            "\n",
            "    accuracy                           0.80      1407\n",
            "   macro avg       0.75      0.70      0.72      1407\n",
            "weighted avg       0.79      0.80      0.79      1407\n",
            " \n",
            "\n"
          ]
        },
        {
          "data": {
            "image/png": "[encoded data removed]",
            "text/plain": [
              "<Figure size 640x480 with 1 Axes>"
            ]
          },
          "metadata": {},
          "output_type": "display_data"
        }
      ],
      "source": [
        "y_test_predictions_gscv = grid_search.predict(X_test_norm)\n",
        "\n",
        "sns.heatmap(metrics.confusion_matrix(y_test,y_test_predictions_gscv),annot=True,fmt='d',cbar=False,cmap='magma')\n",
        "plt.xlabel(\"Predicted Label\")\n",
        "plt.ylabel(\"Actual Label\");\n",
        "\n",
        "#classification report for Gradient Boost Classifier applying grid search cv\n",
        "print(metrics.classification_report(y_test, y_test_predictions_gscv),'\\n')\n",
        "\n",
        "print(\"Precision score for Test data:\", metrics.precision_score(y_test,y_test_predictions_gscv))\n",
        "print(\"Precision score for Train data:\", metrics.precision_score(y_train,y_train_predict))\n",
        "\n",
        "print(\"Recall score for Test data:\", metrics.recall_score(y_test,y_test_predictions_gscv))\n",
        "print(\"Recall score for Test data:\", metrics.recall_score(y_train,y_train_predict))"
      ]
    },
    {
      "cell_type": "markdown",
      "metadata": {
        "id": "hu9YqOVVurbO"
      },
      "source": [
        "INSIGHT: For Gradient Boost Classifier 1) Initially, the accuracy of model is good which is approximately 79-84% for both train and test data. This has dropped drastically to 53%. 2) Recall has remained at same level of 50% after applying Random search CV 3) Both parameters accuracy & recall have not improved by tuning"
      ]
    },
    {
      "cell_type": "markdown",
      "metadata": {
        "id": "8RLXFdKPmjdO"
      },
      "source": [
        "3.i Provide detailed analysis of the below steps 1) Compare the performance of each model in train stage and test stage 2) Provide your observation on which model performed the best 3) Provide your reasoning on why the model performed best 4) Provide your final conclusion on your observation"
      ]
    },
    {
      "cell_type": "markdown",
      "metadata": {
        "id": "HbxQuZHzN-mO"
      },
      "source": [
        "**Decision Tree Classifier**\n",
        "accuracy of training data: 0.7909333333333334\n",
        "accuracy of testing data: 0.7903340440653873\n",
        "Precision score for Test data 0.6651162790697674\n",
        "Precision score for Train data 0.6991473812423873\n",
        "Recall score for Test data 0.3907103825136612\n",
        "Recall score for Test data 0.3819028609447771\n",
        "\n",
        "Tuned\n",
        "Accuracy on train data : 0.5629280177187154\n",
        "\n",
        "**Random Forest Classifier**\n",
        "Accuracy of training data: 0.7859555555555555\n",
        "accuracy of testing data: 0.7839374555792467\n",
        "Precision score for Test data: 0.7123287671232876\n",
        "Precision score for Train data: 0.7430894308943089\n",
        "Recall score for Test data: 0.28415300546448086\n",
        "Recall score for Test data: 0.3040585495675316\n",
        "\n",
        "Tuned\n",
        "Accuracy on train data : 0.5222990033222591\n",
        "\n",
        "**AdaBoost Classifier**\n",
        "accuracy of training data: 0.7984\n",
        "accuracy of testing data: 0.7839374555792467\n",
        "Precision score for Test data: 0.6973180076628352\n",
        "Precision score for Train data: 0.6700460829493088\n",
        "Recall score for Test data: 0.4972677595628415\n",
        "Recall score for Test data: 0.48369926813040587\n",
        "\n",
        "Tuned\n",
        "Accuracy on train data : 0.7479111111111111\n",
        "\n",
        "**Gradient Boosting Classifier**\n",
        "accuracy of training data: 0.8483555555555555\n",
        "accuracy of testing data: 0.7981520966595593\n",
        "Precision score for Test data: 0.6423611111111112\n",
        "Precision score for Train data: 0.7699335548172758\n",
        "Recall score for Test data: 0.505464480874317\n",
        "Recall score for Test data: 0.6167664670658682\n",
        "\n",
        "Tuned\n",
        "Accuracy on train data : 0.5349590254706534\n",
        "\n"
      ]
    },
    {
      "cell_type": "markdown",
      "metadata": {
        "id": "KF3YRjvZOT6T"
      },
      "source": [
        "1) As we can see above that all models have high accuracy, but they reduced after tuning. The only model which maintained accuracy is AdaBoost Classifier.\n",
        "2) The recall rate is better in Gradient Boosting rather than AdaBoost Classifier. The recall rate for Decision Tree and Random Forest is very low,indicating that loosing client rate is not captured very well.\n",
        "3) Accuracy of testing data is par for all models\n",
        "4) Accuracy of training data is best for Gradient Boosting Classifier\n",
        "\n",
        "**Gradient Boosting Clasifier** is the best model as it exhibits high accuracy and recall. It does not require tuning as that has not contributed much\n"
      ]
    },
    {
      "cell_type": "code",
      "source": [
        "from google.colab import drive\n",
        "drive.mount(\"/content/gdrive\")"
      ],
      "metadata": {
        "colab": {
          "base_uri": "https://localhost:8080/"
        },
        "id": "6IQOXObnXcII",
        "outputId": "4e298b47-1901-49fe-c3ae-17006bc4adef"
      },
      "execution_count": 32,
      "outputs": [
        {
          "output_type": "stream",
          "name": "stdout",
          "text": [
            "Mounted at /content/gdrive\n"
          ]
        }
      ]
    },
    {
      "cell_type": "code",
      "source": [
        "! pwd"
      ],
      "metadata": {
        "colab": {
          "base_uri": "https://localhost:8080/"
        },
        "id": "wCnZdbX7XeqR",
        "outputId": "269c1ad6-353c-4c2d-bbc8-b3f95b0657ab"
      },
      "execution_count": 26,
      "outputs": [
        {
          "output_type": "stream",
          "name": "stdout",
          "text": [
            "/content\n"
          ]
        }
      ]
    },
    {
      "cell_type": "code",
      "execution_count": 30,
      "metadata": {
        "colab": {
          "base_uri": "https://localhost:8080/",
          "height": 1000
        },
        "id": "z337QyP7T2b-",
        "outputId": "16737e96-50b5-4358-ad11-655cac692766"
      },
      "outputs": [
        {
          "output_type": "stream",
          "name": "stdout",
          "text": [
            "[NbConvertApp] WARNING | pattern '/Project_Ensemble_Techniques.ipynb' matched no files\n",
            "This application is used to convert notebook files (*.ipynb)\n",
            "        to various other formats.\n",
            "\n",
            "        WARNING: THE COMMANDLINE INTERFACE MAY CHANGE IN FUTURE RELEASES.\n",
            "\n",
            "Options\n",
            "=======\n",
            "The options below are convenience aliases to configurable class-options,\n",
            "as listed in the \"Equivalent to\" description-line of the aliases.\n",
            "To see all configurable class-options for some <cmd>, use:\n",
            "    <cmd> --help-all\n",
            "\n",
            "--debug\n",
            "    set log level to logging.DEBUG (maximize logging output)\n",
            "    Equivalent to: [--Application.log_level=10]\n",
            "--show-config\n",
            "    Show the application's configuration (human-readable format)\n",
            "    Equivalent to: [--Application.show_config=True]\n",
            "--show-config-json\n",
            "    Show the application's configuration (json format)\n",
            "    Equivalent to: [--Application.show_config_json=True]\n",
            "--generate-config\n",
            "    generate default config file\n",
            "    Equivalent to: [--JupyterApp.generate_config=True]\n",
            "-y\n",
            "    Answer yes to any questions instead of prompting.\n",
            "    Equivalent to: [--JupyterApp.answer_yes=True]\n",
            "--execute\n",
            "    Execute the notebook prior to export.\n",
            "    Equivalent to: [--ExecutePreprocessor.enabled=True]\n",
            "--allow-errors\n",
            "    Continue notebook execution even if one of the cells throws an error and include the error message in the cell output (the default behaviour is to abort conversion). This flag is only relevant if '--execute' was specified, too.\n",
            "    Equivalent to: [--ExecutePreprocessor.allow_errors=True]\n",
            "--stdin\n",
            "    read a single notebook file from stdin. Write the resulting notebook with default basename 'notebook.*'\n",
            "    Equivalent to: [--NbConvertApp.from_stdin=True]\n",
            "--stdout\n",
            "    Write notebook output to stdout instead of files.\n",
            "    Equivalent to: [--NbConvertApp.writer_class=StdoutWriter]\n",
            "--inplace\n",
            "    Run nbconvert in place, overwriting the existing notebook (only\n",
            "            relevant when converting to notebook format)\n",
            "    Equivalent to: [--NbConvertApp.use_output_suffix=False --NbConvertApp.export_format=notebook --FilesWriter.build_directory=]\n",
            "--clear-output\n",
            "    Clear output of current file and save in place,\n",
            "            overwriting the existing notebook.\n",
            "    Equivalent to: [--NbConvertApp.use_output_suffix=False --NbConvertApp.export_format=notebook --FilesWriter.build_directory= --ClearOutputPreprocessor.enabled=True]\n",
            "--no-prompt\n",
            "    Exclude input and output prompts from converted document.\n",
            "    Equivalent to: [--TemplateExporter.exclude_input_prompt=True --TemplateExporter.exclude_output_prompt=True]\n",
            "--no-input\n",
            "    Exclude input cells and output prompts from converted document.\n",
            "            This mode is ideal for generating code-free reports.\n",
            "    Equivalent to: [--TemplateExporter.exclude_output_prompt=True --TemplateExporter.exclude_input=True --TemplateExporter.exclude_input_prompt=True]\n",
            "--allow-chromium-download\n",
            "    Whether to allow downloading chromium if no suitable version is found on the system.\n",
            "    Equivalent to: [--WebPDFExporter.allow_chromium_download=True]\n",
            "--disable-chromium-sandbox\n",
            "    Disable chromium security sandbox when converting to PDF..\n",
            "    Equivalent to: [--WebPDFExporter.disable_sandbox=True]\n",
            "--show-input\n",
            "    Shows code input. This flag is only useful for dejavu users.\n",
            "    Equivalent to: [--TemplateExporter.exclude_input=False]\n",
            "--embed-images\n",
            "    Embed the images as base64 dataurls in the output. This flag is only useful for the HTML/WebPDF/Slides exports.\n",
            "    Equivalent to: [--HTMLExporter.embed_images=True]\n",
            "--sanitize-html\n",
            "    Whether the HTML in Markdown cells and cell outputs should be sanitized..\n",
            "    Equivalent to: [--HTMLExporter.sanitize_html=True]\n",
            "--log-level=<Enum>\n",
            "    Set the log level by value or name.\n",
            "    Choices: any of [0, 10, 20, 30, 40, 50, 'DEBUG', 'INFO', 'WARN', 'ERROR', 'CRITICAL']\n",
            "    Default: 30\n",
            "    Equivalent to: [--Application.log_level]\n",
            "--config=<Unicode>\n",
            "    Full path of a config file.\n",
            "    Default: ''\n",
            "    Equivalent to: [--JupyterApp.config_file]\n",
            "--to=<Unicode>\n",
            "    The export format to be used, either one of the built-in formats\n",
            "            ['asciidoc', 'custom', 'html', 'latex', 'markdown', 'notebook', 'pdf', 'python', 'rst', 'script', 'slides', 'webpdf']\n",
            "            or a dotted object name that represents the import path for an\n",
            "            ``Exporter`` class\n",
            "    Default: ''\n",
            "    Equivalent to: [--NbConvertApp.export_format]\n",
            "--template=<Unicode>\n",
            "    Name of the template to use\n",
            "    Default: ''\n",
            "    Equivalent to: [--TemplateExporter.template_name]\n",
            "--template-file=<Unicode>\n",
            "    Name of the template file to use\n",
            "    Default: None\n",
            "    Equivalent to: [--TemplateExporter.template_file]\n",
            "--theme=<Unicode>\n",
            "    Template specific theme(e.g. the name of a JupyterLab CSS theme distributed\n",
            "    as prebuilt extension for the lab template)\n",
            "    Default: 'light'\n",
            "    Equivalent to: [--HTMLExporter.theme]\n",
            "--sanitize_html=<Bool>\n",
            "    Whether the HTML in Markdown cells and cell outputs should be sanitized.This\n",
            "    should be set to True by nbviewer or similar tools.\n",
            "    Default: False\n",
            "    Equivalent to: [--HTMLExporter.sanitize_html]\n",
            "--writer=<DottedObjectName>\n",
            "    Writer class used to write the\n",
            "                                        results of the conversion\n",
            "    Default: 'FilesWriter'\n",
            "    Equivalent to: [--NbConvertApp.writer_class]\n",
            "--post=<DottedOrNone>\n",
            "    PostProcessor class used to write the\n",
            "                                        results of the conversion\n",
            "    Default: ''\n",
            "    Equivalent to: [--NbConvertApp.postprocessor_class]\n",
            "--output=<Unicode>\n",
            "    overwrite base name use for output files.\n",
            "                can only be used when converting one notebook at a time.\n",
            "    Default: ''\n",
            "    Equivalent to: [--NbConvertApp.output_base]\n",
            "--output-dir=<Unicode>\n",
            "    Directory to write output(s) to. Defaults\n",
            "                                  to output to the directory of each notebook. To recover\n",
            "                                  previous default behaviour (outputting to the current\n",
            "                                  working directory) use . as the flag value.\n",
            "    Default: ''\n",
            "    Equivalent to: [--FilesWriter.build_directory]\n",
            "--reveal-prefix=<Unicode>\n",
            "    The URL prefix for reveal.js (version 3.x).\n",
            "            This defaults to the reveal CDN, but can be any url pointing to a copy\n",
            "            of reveal.js.\n",
            "            For speaker notes to work, this must be a relative path to a local\n",
            "            copy of reveal.js: e.g., \"reveal.js\".\n",
            "            If a relative path is given, it must be a subdirectory of the\n",
            "            current directory (from which the server is run).\n",
            "            See the usage documentation\n",
            "            (https://nbconvert.readthedocs.io/en/latest/usage.html#reveal-js-html-slideshow)\n",
            "            for more details.\n",
            "    Default: ''\n",
            "    Equivalent to: [--SlidesExporter.reveal_url_prefix]\n",
            "--nbformat=<Enum>\n",
            "    The nbformat version to write.\n",
            "            Use this to downgrade notebooks.\n",
            "    Choices: any of [1, 2, 3, 4]\n",
            "    Default: 4\n",
            "    Equivalent to: [--NotebookExporter.nbformat_version]\n",
            "\n",
            "Examples\n",
            "--------\n",
            "\n",
            "    The simplest way to use nbconvert is\n",
            "\n",
            "            > jupyter nbconvert mynotebook.ipynb --to html\n",
            "\n",
            "            Options include ['asciidoc', 'custom', 'html', 'latex', 'markdown', 'notebook', 'pdf', 'python', 'rst', 'script', 'slides', 'webpdf'].\n",
            "\n",
            "            > jupyter nbconvert --to latex mynotebook.ipynb\n",
            "\n",
            "            Both HTML and LaTeX support multiple output templates. LaTeX includes\n",
            "            'base', 'article' and 'report'.  HTML includes 'basic', 'lab' and\n",
            "            'classic'. You can specify the flavor of the format used.\n",
            "\n",
            "            > jupyter nbconvert --to html --template lab mynotebook.ipynb\n",
            "\n",
            "            You can also pipe the output to stdout, rather than a file\n",
            "\n",
            "            > jupyter nbconvert mynotebook.ipynb --stdout\n",
            "\n",
            "            PDF is generated via latex\n",
            "\n",
            "            > jupyter nbconvert mynotebook.ipynb --to pdf\n",
            "\n",
            "            You can get (and serve) a Reveal.js-powered slideshow\n",
            "\n",
            "            > jupyter nbconvert myslides.ipynb --to slides --post serve\n",
            "\n",
            "            Multiple notebooks can be given at the command line in a couple of\n",
            "            different ways:\n",
            "\n",
            "            > jupyter nbconvert notebook*.ipynb\n",
            "            > jupyter nbconvert notebook1.ipynb notebook2.ipynb\n",
            "\n",
            "            or you can specify the notebooks list in a config file, containing::\n",
            "\n",
            "                c.NbConvertApp.notebooks = [\"my_notebook.ipynb\"]\n",
            "\n",
            "            > jupyter nbconvert --config mycfg.py\n",
            "\n",
            "To see all available configurables, use `--help-all`.\n",
            "\n"
          ]
        },
        {
          "output_type": "error",
          "ename": "CalledProcessError",
          "evalue": "ignored",
          "traceback": [
            "\u001b[0;31m---------------------------------------------------------------------------\u001b[0m",
            "\u001b[0;31mCalledProcessError\u001b[0m                        Traceback (most recent call last)",
            "\u001b[0;32m<ipython-input-30-3d7201850fcd>\u001b[0m in \u001b[0;36m<cell line: 1>\u001b[0;34m()\u001b[0m\n\u001b[0;32m----> 1\u001b[0;31m \u001b[0mget_ipython\u001b[0m\u001b[0;34m(\u001b[0m\u001b[0;34m)\u001b[0m\u001b[0;34m.\u001b[0m\u001b[0mrun_cell_magic\u001b[0m\u001b[0;34m(\u001b[0m\u001b[0;34m'shell'\u001b[0m\u001b[0;34m,\u001b[0m \u001b[0;34m''\u001b[0m\u001b[0;34m,\u001b[0m \u001b[0;34m\"jupyter nbconvert --to html --template lab /Project_Ensemble_Techniques.ipynb\\n#The %%shell lets the interpreter know that the following script is interpreted as shell. Don't write anything before %%shell, use a distinct cell for this.\\n\\n#The form of /PATH/TO/YOUR/NOTEBOOKFILE.ipynb will be something like /content/lightaberration3.ipynb.\\n\"\u001b[0m\u001b[0;34m)\u001b[0m\u001b[0;34m\u001b[0m\u001b[0;34m\u001b[0m\u001b[0m\n\u001b[0m",
            "\u001b[0;32m/usr/local/lib/python3.10/dist-packages/google/colab/_shell.py\u001b[0m in \u001b[0;36mrun_cell_magic\u001b[0;34m(self, magic_name, line, cell)\u001b[0m\n\u001b[1;32m    332\u001b[0m     \u001b[0;32mif\u001b[0m \u001b[0mline\u001b[0m \u001b[0;32mand\u001b[0m \u001b[0;32mnot\u001b[0m \u001b[0mcell\u001b[0m\u001b[0;34m:\u001b[0m\u001b[0;34m\u001b[0m\u001b[0;34m\u001b[0m\u001b[0m\n\u001b[1;32m    333\u001b[0m       \u001b[0mcell\u001b[0m \u001b[0;34m=\u001b[0m \u001b[0;34m' '\u001b[0m\u001b[0;34m\u001b[0m\u001b[0;34m\u001b[0m\u001b[0m\n\u001b[0;32m--> 334\u001b[0;31m     \u001b[0;32mreturn\u001b[0m \u001b[0msuper\u001b[0m\u001b[0;34m(\u001b[0m\u001b[0;34m)\u001b[0m\u001b[0;34m.\u001b[0m\u001b[0mrun_cell_magic\u001b[0m\u001b[0;34m(\u001b[0m\u001b[0mmagic_name\u001b[0m\u001b[0;34m,\u001b[0m \u001b[0mline\u001b[0m\u001b[0;34m,\u001b[0m \u001b[0mcell\u001b[0m\u001b[0;34m)\u001b[0m\u001b[0;34m\u001b[0m\u001b[0;34m\u001b[0m\u001b[0m\n\u001b[0m\u001b[1;32m    335\u001b[0m \u001b[0;34m\u001b[0m\u001b[0m\n\u001b[1;32m    336\u001b[0m \u001b[0;34m\u001b[0m\u001b[0m\n",
            "\u001b[0;32m/usr/local/lib/python3.10/dist-packages/IPython/core/interactiveshell.py\u001b[0m in \u001b[0;36mrun_cell_magic\u001b[0;34m(self, magic_name, line, cell)\u001b[0m\n\u001b[1;32m   2471\u001b[0m             \u001b[0;32mwith\u001b[0m \u001b[0mself\u001b[0m\u001b[0;34m.\u001b[0m\u001b[0mbuiltin_trap\u001b[0m\u001b[0;34m:\u001b[0m\u001b[0;34m\u001b[0m\u001b[0;34m\u001b[0m\u001b[0m\n\u001b[1;32m   2472\u001b[0m                 \u001b[0margs\u001b[0m \u001b[0;34m=\u001b[0m \u001b[0;34m(\u001b[0m\u001b[0mmagic_arg_s\u001b[0m\u001b[0;34m,\u001b[0m \u001b[0mcell\u001b[0m\u001b[0;34m)\u001b[0m\u001b[0;34m\u001b[0m\u001b[0;34m\u001b[0m\u001b[0m\n\u001b[0;32m-> 2473\u001b[0;31m                 \u001b[0mresult\u001b[0m \u001b[0;34m=\u001b[0m \u001b[0mfn\u001b[0m\u001b[0;34m(\u001b[0m\u001b[0;34m*\u001b[0m\u001b[0margs\u001b[0m\u001b[0;34m,\u001b[0m \u001b[0;34m**\u001b[0m\u001b[0mkwargs\u001b[0m\u001b[0;34m)\u001b[0m\u001b[0;34m\u001b[0m\u001b[0;34m\u001b[0m\u001b[0m\n\u001b[0m\u001b[1;32m   2474\u001b[0m             \u001b[0;32mreturn\u001b[0m \u001b[0mresult\u001b[0m\u001b[0;34m\u001b[0m\u001b[0;34m\u001b[0m\u001b[0m\n\u001b[1;32m   2475\u001b[0m \u001b[0;34m\u001b[0m\u001b[0m\n",
            "\u001b[0;32m/usr/local/lib/python3.10/dist-packages/google/colab/_system_commands.py\u001b[0m in \u001b[0;36m_shell_cell_magic\u001b[0;34m(args, cmd)\u001b[0m\n\u001b[1;32m    110\u001b[0m   \u001b[0mresult\u001b[0m \u001b[0;34m=\u001b[0m \u001b[0m_run_command\u001b[0m\u001b[0;34m(\u001b[0m\u001b[0mcmd\u001b[0m\u001b[0;34m,\u001b[0m \u001b[0mclear_streamed_output\u001b[0m\u001b[0;34m=\u001b[0m\u001b[0;32mFalse\u001b[0m\u001b[0;34m)\u001b[0m\u001b[0;34m\u001b[0m\u001b[0;34m\u001b[0m\u001b[0m\n\u001b[1;32m    111\u001b[0m   \u001b[0;32mif\u001b[0m \u001b[0;32mnot\u001b[0m \u001b[0mparsed_args\u001b[0m\u001b[0;34m.\u001b[0m\u001b[0mignore_errors\u001b[0m\u001b[0;34m:\u001b[0m\u001b[0;34m\u001b[0m\u001b[0;34m\u001b[0m\u001b[0m\n\u001b[0;32m--> 112\u001b[0;31m     \u001b[0mresult\u001b[0m\u001b[0;34m.\u001b[0m\u001b[0mcheck_returncode\u001b[0m\u001b[0;34m(\u001b[0m\u001b[0;34m)\u001b[0m\u001b[0;34m\u001b[0m\u001b[0;34m\u001b[0m\u001b[0m\n\u001b[0m\u001b[1;32m    113\u001b[0m   \u001b[0;32mreturn\u001b[0m \u001b[0mresult\u001b[0m\u001b[0;34m\u001b[0m\u001b[0;34m\u001b[0m\u001b[0m\n\u001b[1;32m    114\u001b[0m \u001b[0;34m\u001b[0m\u001b[0m\n",
            "\u001b[0;32m/usr/local/lib/python3.10/dist-packages/google/colab/_system_commands.py\u001b[0m in \u001b[0;36mcheck_returncode\u001b[0;34m(self)\u001b[0m\n\u001b[1;32m    135\u001b[0m   \u001b[0;32mdef\u001b[0m \u001b[0mcheck_returncode\u001b[0m\u001b[0;34m(\u001b[0m\u001b[0mself\u001b[0m\u001b[0;34m)\u001b[0m\u001b[0;34m:\u001b[0m\u001b[0;34m\u001b[0m\u001b[0;34m\u001b[0m\u001b[0m\n\u001b[1;32m    136\u001b[0m     \u001b[0;32mif\u001b[0m \u001b[0mself\u001b[0m\u001b[0;34m.\u001b[0m\u001b[0mreturncode\u001b[0m\u001b[0;34m:\u001b[0m\u001b[0;34m\u001b[0m\u001b[0;34m\u001b[0m\u001b[0m\n\u001b[0;32m--> 137\u001b[0;31m       raise subprocess.CalledProcessError(\n\u001b[0m\u001b[1;32m    138\u001b[0m           \u001b[0mreturncode\u001b[0m\u001b[0;34m=\u001b[0m\u001b[0mself\u001b[0m\u001b[0;34m.\u001b[0m\u001b[0mreturncode\u001b[0m\u001b[0;34m,\u001b[0m \u001b[0mcmd\u001b[0m\u001b[0;34m=\u001b[0m\u001b[0mself\u001b[0m\u001b[0;34m.\u001b[0m\u001b[0margs\u001b[0m\u001b[0;34m,\u001b[0m \u001b[0moutput\u001b[0m\u001b[0;34m=\u001b[0m\u001b[0mself\u001b[0m\u001b[0;34m.\u001b[0m\u001b[0moutput\u001b[0m\u001b[0;34m\u001b[0m\u001b[0;34m\u001b[0m\u001b[0m\n\u001b[1;32m    139\u001b[0m       )\n",
            "\u001b[0;31mCalledProcessError\u001b[0m: Command 'jupyter nbconvert --to html --template lab /Project_Ensemble_Techniques.ipynb\n#The %%shell lets the interpreter know that the following script is interpreted as shell. Don't write anything before %%shell, use a distinct cell for this.\n\n#The form of /PATH/TO/YOUR/NOTEBOOKFILE.ipynb will be something like /content/lightaberration3.ipynb.\n' returned non-zero exit status 255."
          ]
        }
      ],
      "source": [
        "%%shell\n",
        "jupyter nbconvert --to html --template lab /Project_Ensemble_Techniques.ipynb\n",
        "#The %%shell lets the interpreter know that the following script is interpreted as shell. Don't write anything before %%shell, use a distinct cell for this.\n",
        "\n",
        "#The form of /PATH/TO/YOUR/NOTEBOOKFILE.ipynb will be something like /content/lightaberration3.ipynb."
      ]
    },
    {
      "cell_type": "code",
      "source": [
        "%%javascript\n",
        "IPython.notebook.save_notebook()\n",
        ""
      ],
      "metadata": {
        "colab": {
          "base_uri": "https://localhost:8080/",
          "height": 17
        },
        "id": "CNNMdK6TYC09",
        "outputId": "2e3eba87-1e6c-4273-8906-bbc04c1b10f0"
      },
      "execution_count": 19,
      "outputs": [
        {
          "output_type": "display_data",
          "data": {
            "text/plain": [
              "<IPython.core.display.Javascript object>"
            ],
            "application/javascript": [
              "IPython.notebook.save_notebook()\n",
              " \n"
            ]
          },
          "metadata": {}
        }
      ]
    },
    {
      "cell_type": "code",
      "source": [
        "import os\n",
        "os.system('jupyter nbconvert --to html Project_Ensemble_Techniques.ipynb')"
      ],
      "metadata": {
        "colab": {
          "base_uri": "https://localhost:8080/"
        },
        "id": "xYbGzMc9ZPUg",
        "outputId": "4ae412e5-9f8a-4d8c-ffe3-674eb1084700"
      },
      "execution_count": 20,
      "outputs": [
        {
          "output_type": "execute_result",
          "data": {
            "text/plain": [
              "65280"
            ]
          },
          "metadata": {},
          "execution_count": 20
        }
      ]
    }
  ],
  "metadata": {
    "colab": {
      "provenance": []
    },
    "kernelspec": {
      "display_name": "Python 3",
      "name": "python3"
    },
    "language_info": {
      "name": "python"
    }
  },
  "nbformat": 4,
  "nbformat_minor": 0
}